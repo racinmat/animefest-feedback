{
 "cells": [
  {
   "cell_type": "code",
   "execution_count": null,
   "metadata": {},
   "outputs": [],
   "source": [
    "import numpy as np\n",
    "import pandas as pd\n",
    "import matplotlib.pyplot as plt\n",
    "from functools import partial\n",
    "import seaborn as sns\n",
    "import requests\n"
   ]
  },
  {
   "cell_type": "code",
   "execution_count": null,
   "metadata": {},
   "outputs": [],
   "source": [
    "# use this to keep the cells wider, very nice on wide screens, set the percentage as you like it\n",
    "from IPython.core.display import display, HTML\n",
    "#display(HTML(\"<style>.container { width:80% !important; }</style>\"))\n",
    "display(HTML(\"<style>.container { width:100% !important; }</style>\"))"
   ]
  },
  {
   "cell_type": "code",
   "execution_count": null,
   "metadata": {},
   "outputs": [],
   "source": [
    "conf = {\n",
    "    'font.size': 14.0,\n",
    "    'axes.grid': True,\n",
    "    'axes.axisbelow': True,\n",
    "    'axes.edgecolor': 'black',\n",
    "#    'axes.facecolor': '#E5E5EF',\n",
    "#    'axes.facecolor': '#E0E0EF',\n",
    "    'axes.labelcolor': 'black',\n",
    "    'axes.titlesize': 15.6,\n",
    "    'axes.labelsize': 'large',    \n",
    "    'figure.figsize': (12, 7),\n",
    "    'figure.titlesize': 'x-large',\n",
    "    'grid.linewidth': 1.3,\n",
    "    'xtick.labelsize': 'large',\n",
    "    'ytick.labelsize': 'large',\n",
    "    'xtick.color': 'black',\n",
    "    'ytick.color': 'black',\n",
    "    'legend.fontsize': 'large',\n",
    "    'figure.figsize': (12., 8.)\n",
    "}\n",
    "\n",
    "plt.rcParams.update(conf)"
   ]
  },
  {
   "cell_type": "markdown",
   "metadata": {},
   "source": [
    "### base loading and cleaning"
   ]
  },
  {
   "cell_type": "code",
   "execution_count": null,
   "metadata": {},
   "outputs": [],
   "source": [
    "df_form = pd.read_excel('Feedback_Animefest_2019.xlsx', sheet_name='Form Responses 1')"
   ]
  },
  {
   "cell_type": "code",
   "execution_count": null,
   "metadata": {},
   "outputs": [],
   "source": [
    "df_form['Timestamp'] = pd.to_datetime(df_form['Timestamp'])"
   ]
  },
  {
   "cell_type": "code",
   "execution_count": null,
   "metadata": {},
   "outputs": [],
   "source": [
    "df_app = pd.read_excel('Feedback_Animefest_2019.xlsx', sheet_name='Appky')"
   ]
  },
  {
   "cell_type": "code",
   "execution_count": null,
   "metadata": {},
   "outputs": [],
   "source": [
    "df_app['čas feedbacku'] = pd.to_datetime(df_app['čas feedbacku'])"
   ]
  },
  {
   "cell_type": "code",
   "execution_count": null,
   "metadata": {},
   "outputs": [],
   "source": [
    "df_form = df_form.replace(to_replace={'😐v pohodě': 'v pohodě', '😃dobré': 'dobré', '😞špatné': 'špatné', '😐 v pohodě': 'v pohodě', '😃 dobré': 'dobré', '😞 špatné': 'špatné', '😃Ano': 'Ano', '😞Ne': 'Ne'})"
   ]
  },
  {
   "cell_type": "code",
   "execution_count": null,
   "metadata": {},
   "outputs": [],
   "source": [
    "df_form.head()"
   ]
  },
  {
   "cell_type": "markdown",
   "metadata": {},
   "source": [
    "##### several columns with same name, mutually exlusively filled, merging those"
   ]
  },
  {
   "cell_type": "code",
   "execution_count": null,
   "metadata": {},
   "outputs": [],
   "source": [
    "duplicit_columns = [i for i in df_form.columns if i.endswith('.1')]\n",
    "duplicit_columns"
   ]
  },
  {
   "cell_type": "code",
   "execution_count": null,
   "metadata": {},
   "outputs": [],
   "source": [
    "[df_form[[i[:-2], i]].notnull().sum(axis=1).max() for i in duplicit_columns]"
   ]
  },
  {
   "cell_type": "code",
   "execution_count": null,
   "metadata": {},
   "outputs": [],
   "source": [
    "for i in duplicit_columns:\n",
    "    assert df_form[[i[:-2], i]].notnull().sum(axis=1).max() == 1  # only one column is filled, the other is N/A\n",
    "    df_form.loc[df_form[i].notnull(), i[:-2]] = df_form[df_form[i].notnull()][i]\n",
    "df_form = df_form.drop(columns=duplicit_columns)"
   ]
  },
  {
   "cell_type": "code",
   "execution_count": null,
   "metadata": {},
   "outputs": [],
   "source": [
    "info_suffix = ' [Dozvěděl(a) jsem se zajímavé informace]'\n",
    "fun_suffix = ' [Bavil(a) jsem se]'"
   ]
  },
  {
   "cell_type": "markdown",
   "metadata": {},
   "source": [
    "##### renaming columns with additional space"
   ]
  },
  {
   "cell_type": "code",
   "execution_count": null,
   "metadata": {},
   "outputs": [],
   "source": [
    "program_cols_to_strip_space = ['Aikido Ikigai Dojo Brno', 'Aikikai Aikido Brno', 'Kensei Dojo Brno']\n",
    "replace_dict = {}\n",
    "for col in program_cols_to_strip_space:\n",
    "    replace_dict[f'{col} {info_suffix}'] = f'{col}{info_suffix}'\n",
    "    replace_dict[f'{col} {fun_suffix}'] = f'{col}{fun_suffix}'\n",
    "    replace_dict[f'Komentář: {col} '] = f'Komentář: {col}'\n",
    "    \n",
    "df_form = df_form.rename(columns=replace_dict)"
   ]
  },
  {
   "cell_type": "code",
   "execution_count": null,
   "metadata": {},
   "outputs": [],
   "source": [
    "columns_series = df_form.columns.to_series()\n",
    "program_columns_ratings = columns_series[columns_series.str.contains(info_suffix, regex=False) | columns_series.str.contains(fun_suffix, regex=False)]\n",
    "program_columns_ratings.head()"
   ]
  },
  {
   "cell_type": "code",
   "execution_count": null,
   "metadata": {},
   "outputs": [],
   "source": [
    "program_columns = pd.Series(program_columns_ratings.str.replace(info_suffix, '', regex=False).str.replace(fun_suffix, '', regex=False).unique())\n",
    "program_columns.head()"
   ]
  },
  {
   "cell_type": "markdown",
   "metadata": {},
   "source": [
    "##### some columns that should have same content have nans somewhere, fixing this"
   ]
  },
  {
   "cell_type": "code",
   "execution_count": null,
   "metadata": {},
   "outputs": [],
   "source": [
    "weird_cols = ['2. světová válka z pohledu Japonska a život císaře Hirohita [Dozvěděl(a) jsem se zajímavé informace]', '2. světová válka z pohledu Japonska a život císaře Hirohita [Bavil(a) jsem se]']\n",
    "df_form[df_form[weird_cols[0]] == 'Nedostal(a) jsem se'][weird_cols].head()"
   ]
  },
  {
   "cell_type": "code",
   "execution_count": null,
   "metadata": {},
   "outputs": [],
   "source": [
    "# if one column marks not attended, and second is null, value is inferred\n",
    "for i in program_columns:\n",
    "    info_cond = df_form[i+info_suffix].isna() & df_form[i+fun_suffix].isin(['Nedostal(a) jsem se', 'Nezúčastnil(a) jsem se'])\n",
    "    fun_cond = df_form[i+fun_suffix].isna() & df_form[i+info_suffix].isin(['Nedostal(a) jsem se', 'Nezúčastnil(a) jsem se'])\n",
    "    df_form.loc[info_cond, i+info_suffix] = df_form[info_cond][i+fun_suffix]\n",
    "    df_form.loc[fun_cond, i+fun_suffix] = df_form[fun_cond][i+info_suffix]\n"
   ]
  },
  {
   "cell_type": "code",
   "execution_count": null,
   "metadata": {},
   "outputs": [],
   "source": [
    "df_form[df_form[weird_cols[0]] == 'Nedostal(a) jsem se'][weird_cols].head()"
   ]
  },
  {
   "cell_type": "markdown",
   "metadata": {},
   "source": [
    "##### some columns that should have nan or rating have not attended, fixing this"
   ]
  },
  {
   "cell_type": "code",
   "execution_count": null,
   "metadata": {},
   "outputs": [],
   "source": [
    "weird_cols = ['Maul Cosplay Q&A [Dozvěděl(a) jsem se zajímavé informace]', 'Maul Cosplay Q&A [Bavil(a) jsem se]']\n",
    "df_form[df_form[weird_cols[1]] == 'v pohodě'][weird_cols].head()"
   ]
  },
  {
   "cell_type": "code",
   "execution_count": null,
   "metadata": {},
   "outputs": [],
   "source": [
    "# if one column marks not attended, and second is rating, not attended is set to null\n",
    "for i in program_columns:\n",
    "    info_cond = df_form[i+fun_suffix].isin(['dobré', 'v pohodě', 'špatné']) & df_form[i+info_suffix].isin(['Nedostal(a) jsem se', 'Nezúčastnil(a) jsem se'])\n",
    "    fun_cond = df_form[i+info_suffix].isin(['dobré', 'v pohodě', 'špatné']) & df_form[i+fun_suffix].isin(['Nedostal(a) jsem se', 'Nezúčastnil(a) jsem se'])\n",
    "    df_form.loc[info_cond, i+info_suffix] = np.nan\n",
    "    df_form.loc[fun_cond, i+fun_suffix] = np.nan\n"
   ]
  },
  {
   "cell_type": "code",
   "execution_count": null,
   "metadata": {},
   "outputs": [],
   "source": [
    "df_form[df_form[weird_cols[1]] == 'v pohodě'][weird_cols].head()"
   ]
  },
  {
   "cell_type": "markdown",
   "metadata": {},
   "source": [
    "##### some columns that should have same type of attendence have different. Converting 'Nedostal(a) jsem se' to 'Nezúčastnil(a) jsem se'"
   ]
  },
  {
   "cell_type": "code",
   "execution_count": null,
   "metadata": {},
   "outputs": [],
   "source": [
    "weird_cols = ['12 ran cosplayerových [Dozvěděl(a) jsem se zajímavé informace]', '12 ran cosplayerových [Bavil(a) jsem se]']\n",
    "df_form[df_form[weird_cols[0]] == 'Nedostal(a) jsem se'][weird_cols].tail()"
   ]
  },
  {
   "cell_type": "code",
   "execution_count": null,
   "metadata": {},
   "outputs": [],
   "source": [
    "# if one column marks not attended, and second is null, value is inferred\n",
    "for i in program_columns:\n",
    "    info_cond = (df_form[i+info_suffix] == 'Nedostal(a) jsem se') & (df_form[i+fun_suffix] == 'Nezúčastnil(a) jsem se')\n",
    "    fun_cond = (df_form[i+fun_suffix] == 'Nedostal(a) jsem se') & (df_form[i+info_suffix] == 'Nezúčastnil(a) jsem se')\n",
    "    df_form.loc[info_cond, i+info_suffix] = df_form[info_cond][i+fun_suffix]\n",
    "    df_form.loc[fun_cond, i+fun_suffix] = df_form[fun_cond][i+info_suffix]\n"
   ]
  },
  {
   "cell_type": "code",
   "execution_count": null,
   "metadata": {},
   "outputs": [],
   "source": [
    "df_form[df_form[weird_cols[0]] == 'Nedostal(a) jsem se'][weird_cols].tail()"
   ]
  },
  {
   "cell_type": "markdown",
   "metadata": {},
   "source": [
    "##### sanity checks"
   ]
  },
  {
   "cell_type": "code",
   "execution_count": null,
   "metadata": {},
   "outputs": [],
   "source": [
    "for i in program_columns:\n",
    "    info_sum = (df_form[i+info_suffix] == 'Nedostal(a) jsem se').sum()\n",
    "    fun_sum = (df_form[i+fun_suffix] == 'Nedostal(a) jsem se').sum()\n",
    "    both_sum = ((df_form[i+info_suffix] == 'Nedostal(a) jsem se') & (df_form[i+fun_suffix] == 'Nedostal(a) jsem se')).sum()\n",
    "    if info_sum != fun_sum or fun_sum != both_sum:\n",
    "        print(i, info_sum, fun_sum, both_sum)\n",
    "    \n",
    "    assert info_sum == fun_sum == both_sum"
   ]
  },
  {
   "cell_type": "code",
   "execution_count": null,
   "metadata": {},
   "outputs": [],
   "source": [
    "for i in program_columns:\n",
    "    info_sum = (df_form[i+info_suffix] == 'Nezúčastnil(a) jsem se').sum()\n",
    "    fun_sum = (df_form[i+fun_suffix] == 'Nezúčastnil(a) jsem se').sum()\n",
    "    both_sum = ((df_form[i+info_suffix] == 'Nezúčastnil(a) jsem se') & (df_form[i+fun_suffix] == 'Nezúčastnil(a) jsem se')).sum()\n",
    "    if info_sum != fun_sum or fun_sum != both_sum:\n",
    "        print(i, info_sum, fun_sum, both_sum)\n",
    "    \n",
    "    assert info_sum == fun_sum == both_sum"
   ]
  },
  {
   "cell_type": "code",
   "execution_count": null,
   "metadata": {},
   "outputs": [],
   "source": [
    "for i in program_columns:\n",
    "    info_sum = df_form[i+info_suffix].isin(['dobré', 'v pohodě', 'špatné', np.nan]).sum()\n",
    "    fun_sum = df_form[i+fun_suffix].isin(['dobré', 'v pohodě', 'špatné', np.nan]).sum()\n",
    "    both_sum = df_form[i+info_suffix].isin(['dobré', 'v pohodě', 'špatné', np.nan]).sum() & df_form[i+fun_suffix].isin(['dobré', 'v pohodě', 'špatné', np.nan]).sum()\n",
    "    if info_sum != fun_sum or fun_sum != both_sum:\n",
    "        print(i, info_sum, fun_sum, both_sum)\n",
    "    \n",
    "    assert info_sum == fun_sum == both_sum"
   ]
  },
  {
   "cell_type": "code",
   "execution_count": null,
   "metadata": {},
   "outputs": [],
   "source": [
    "# replacing annoyingly long answer\n",
    "df_form = df_form.replace({'chci hodnotit podrobně (je toho opravdu hodně, čím víc vyplníte, tím vděčnější budeme)': 'chci hodnotit podrobně'})"
   ]
  },
  {
   "cell_type": "markdown",
   "metadata": {},
   "source": [
    "#### split of question between detailed and not detailed version"
   ]
  },
  {
   "cell_type": "code",
   "execution_count": null,
   "metadata": {},
   "outputs": [],
   "source": [
    "# todo: dodělat\n",
    "# přes varianty v Jak podrobně chcete hodnotit? a nany\n",
    "df_form.columns[~df_form[df_form['Jak podrobně chcete hodnotit?'] == 'chci hodnotit stručně'].notnull().any()].to_series().tail(30).to_list()"
   ]
  },
  {
   "cell_type": "code",
   "execution_count": null,
   "metadata": {},
   "outputs": [],
   "source": [
    "df_form.columns[~df_form[df_form['Jak podrobně chcete hodnotit?'] == 'chci hodnotit podrobně'].notnull().any()]"
   ]
  },
  {
   "cell_type": "code",
   "execution_count": null,
   "metadata": {},
   "outputs": [],
   "source": [
    "# sloučit sloupce: 'Úvodní/závěrečné video', 'Úvodní a závěrečné video',"
   ]
  },
  {
   "cell_type": "code",
   "execution_count": null,
   "metadata": {},
   "outputs": [],
   "source": [
    "columns_to_merge = {'Úvodní a závěrečné video': 'Úvodní/závěrečné video', \n",
    "                    'Připadá vám téma důležité pro zážitek na conu?': 'Připadá vám AF téma pro zážitek na conu důležité?', \n",
    "                    'Komentář: Připadá vám téma důležité pro zážitek na conu': 'Komentář: Připadá vám téma pro zážitek na conu důležité?',\n",
    "                    'Komentář: Letošní téma a frakce:': 'Komentář: Letošní téma a frakce',\n",
    "                    'Co se vám na aplikaci líbilo, v čem vám pomohla?': 'Co se vám na aplikaci líbilo? Co chcete do příště změnit nebo doplnit?'\n",
    "                   }\n",
    "for col_from, col_to in columns_to_merge.items():\n",
    "    assert df_form[[col_from, col_to]].notnull().sum(axis=1).max() == 1  # only one column is filled, the other is N/A\n",
    "    df_form.loc[df_form[col_from].notnull(), col_to] = df_form[df_form[col_from].notnull()][col_from]\n",
    "df_form = df_form.drop(columns=columns_to_merge.keys())"
   ]
  },
  {
   "cell_type": "code",
   "execution_count": null,
   "metadata": {},
   "outputs": [],
   "source": [
    "df_form.columns[~df_form[df_form['Jak podrobně chcete hodnotit?'] == 'chci hodnotit podrobně'].notnull().any()]"
   ]
  },
  {
   "cell_type": "markdown",
   "metadata": {},
   "source": [
    "##### cleaning open questions by replacing nan by empty string"
   ]
  },
  {
   "cell_type": "code",
   "execution_count": null,
   "metadata": {},
   "outputs": [],
   "source": [
    "open_answers = [i for i in df_form.columns if len(df_form[i].unique()) > 20 or 'Komentář:' in i] + ['Poznámky k doprovodnému programu']\n",
    "len(open_answers)"
   ]
  },
  {
   "cell_type": "code",
   "execution_count": null,
   "metadata": {},
   "outputs": [],
   "source": [
    "for col in open_answers:\n",
    "    df_form[col] = df_form[col].fillna('')"
   ]
  },
  {
   "cell_type": "markdown",
   "metadata": {},
   "source": [
    "### starting analyzing apps"
   ]
  },
  {
   "cell_type": "code",
   "execution_count": null,
   "metadata": {
    "pycharm": {
     "name": "#%%\n"
    }
   },
   "outputs": [],
   "source": [
    "df_app.head()"
   ]
  },
  {
   "cell_type": "code",
   "execution_count": null,
   "metadata": {
    "pycharm": {
     "name": "#%%\n"
    }
   },
   "outputs": [],
   "source": [
    "df_app.describe()"
   ]
  },
  {
   "cell_type": "code",
   "execution_count": null,
   "metadata": {
    "pycharm": {
     "name": "#%%\n"
    }
   },
   "outputs": [],
   "source": [
    "df_app['uživatel'].value_counts().head()"
   ]
  },
  {
   "cell_type": "code",
   "execution_count": null,
   "metadata": {
    "pycharm": {
     "name": "#%%\n"
    }
   },
   "outputs": [],
   "source": [
    "(df_app['uživatel'] + df_app['program ID'].astype(str)).value_counts().hist()"
   ]
  },
  {
   "cell_type": "code",
   "execution_count": null,
   "metadata": {
    "pycharm": {
     "name": "#%%\n"
    }
   },
   "outputs": [],
   "source": [
    "df_app['uživatel'].value_counts().head()"
   ]
  },
  {
   "cell_type": "code",
   "execution_count": null,
   "metadata": {
    "pycharm": {
     "name": "#%%\n"
    }
   },
   "outputs": [],
   "source": [
    "(df_app['uživatel'] + df_app['program ID'].astype(str)).value_counts().value_counts()"
   ]
  },
  {
   "cell_type": "markdown",
   "metadata": {},
   "source": [
    "#### cleaning data, keeping only last rating"
   ]
  },
  {
   "cell_type": "code",
   "execution_count": null,
   "metadata": {
    "pycharm": {
     "name": "#%%\n"
    }
   },
   "outputs": [],
   "source": [
    "df_app['user_program'] = df_app['uživatel'] + ' ' + df_app['program ID'].astype(str)"
   ]
  },
  {
   "cell_type": "code",
   "execution_count": null,
   "metadata": {
    "pycharm": {
     "name": "#%%\n"
    }
   },
   "outputs": [],
   "source": [
    "df_app[df_app['user_program'].isin(df_app['user_program'].value_counts()[df_app['user_program'].value_counts() > 1].index)].sort_values(by='název').head()"
   ]
  },
  {
   "cell_type": "code",
   "execution_count": null,
   "metadata": {
    "pycharm": {
     "name": "#%%\n"
    }
   },
   "outputs": [],
   "source": [
    "df_app.head()"
   ]
  },
  {
   "cell_type": "code",
   "execution_count": null,
   "metadata": {
    "pycharm": {
     "name": "#%%\n"
    }
   },
   "outputs": [],
   "source": [
    "df_app = df_app.groupby(['user_program']).apply(lambda x: x.sort_values(by='čas feedbacku', ascending=False).head(1))"
   ]
  },
  {
   "cell_type": "code",
   "execution_count": null,
   "metadata": {
    "pycharm": {
     "name": "#%%\n"
    }
   },
   "outputs": [],
   "source": [
    "df_app.sort_values(by='název').head()"
   ]
  },
  {
   "cell_type": "markdown",
   "metadata": {},
   "source": [
    "#### merging together both app and form"
   ]
  },
  {
   "cell_type": "code",
   "execution_count": null,
   "metadata": {
    "pycharm": {
     "name": "#%%\n"
    }
   },
   "outputs": [],
   "source": [
    "df_form.head()"
   ]
  },
  {
   "cell_type": "code",
   "execution_count": null,
   "metadata": {
    "pycharm": {
     "name": "#%%\n"
    }
   },
   "outputs": [],
   "source": [
    "df_app.head()"
   ]
  },
  {
   "cell_type": "code",
   "execution_count": null,
   "metadata": {
    "pycharm": {
     "name": "#%%\n"
    }
   },
   "outputs": [],
   "source": [
    "program_ratings.head()"
   ]
  },
  {
   "cell_type": "code",
   "execution_count": null,
   "metadata": {
    "pycharm": {
     "name": "#%%\n"
    }
   },
   "outputs": [],
   "source": [
    "app_fun_ratings = pd.concat((df_app.groupby('název').apply(lambda x: (x['fun'] == 1).sum()), df_app.groupby('název').apply(lambda x: (x['fun'] == 2).sum()), df_app.groupby('název').apply(lambda x: (x['fun'] == 3).sum())), axis=1)\n",
    "app_fun_ratings.index += fun_suffix\n",
    "app_fun_ratings = app_fun_ratings.rename(columns={0: 'špatné', 1: 'v pohodě', 2: 'dobré'})\n",
    "app_fun_ratings = app_fun_ratings.T\n",
    "app_fun_ratings.head()"
   ]
  },
  {
   "cell_type": "code",
   "execution_count": null,
   "metadata": {
    "pycharm": {
     "name": "#%%\n"
    }
   },
   "outputs": [],
   "source": [
    "app_info_ratings = pd.concat((df_app.groupby('název').apply(lambda x: (x['informace'] == 1).sum()), df_app.groupby('název').apply(lambda x: (x['informace'] == 2).sum()), df_app.groupby('název').apply(lambda x: (x['informace'] == 3).sum())), axis=1)\n",
    "app_info_ratings.index += info_suffix\n",
    "app_info_ratings = app_info_ratings.rename(columns={0: 'špatné', 1: 'v pohodě', 2: 'dobré'})\n",
    "app_info_ratings = app_info_ratings.T\n",
    "app_info_ratings.head()"
   ]
  },
  {
   "cell_type": "code",
   "execution_count": null,
   "metadata": {
    "pycharm": {
     "name": "#%%\n"
    }
   },
   "outputs": [],
   "source": [
    "app_ratings = pd.concat((app_fun_ratings, app_info_ratings), axis=1)\n",
    "app_ratings = app_ratings.reindex(sorted(app_ratings.columns), axis=1)\n",
    "app_ratings"
   ]
  },
  {
   "cell_type": "markdown",
   "metadata": {},
   "source": [
    "### base EDA"
   ]
  },
  {
   "cell_type": "code",
   "execution_count": null,
   "metadata": {},
   "outputs": [],
   "source": [
    "df_form.head()"
   ]
  },
  {
   "cell_type": "code",
   "execution_count": null,
   "metadata": {},
   "outputs": [],
   "source": [
    "df_form.describe()"
   ]
  },
  {
   "cell_type": "code",
   "execution_count": null,
   "metadata": {},
   "outputs": [],
   "source": [
    "[(i, len(df_form[i].unique())) for i in df_form.columns if len(df_form[i].unique()) < 10]"
   ]
  },
  {
   "cell_type": "code",
   "execution_count": null,
   "metadata": {},
   "outputs": [],
   "source": [
    "df_form.columns.map(lambda i: len(df_form[i].unique())).to_series().value_counts().sort_index().plot.bar(figsize=(25, 10))"
   ]
  },
  {
   "cell_type": "code",
   "execution_count": null,
   "metadata": {},
   "outputs": [],
   "source": [
    "df_form.columns.map(lambda i: sum(df_form[i].notnull())).to_series().value_counts().sort_index().plot.bar(figsize=(25, 10))"
   ]
  },
  {
   "cell_type": "code",
   "execution_count": null,
   "metadata": {},
   "outputs": [],
   "source": [
    "attend_columns = [i for i in df_form.columns if 'Nezúčastnil(a) jsem se' in df_form[i].values]"
   ]
  },
  {
   "cell_type": "code",
   "execution_count": null,
   "metadata": {},
   "outputs": [],
   "source": [
    "attend_columns[:10]"
   ]
  },
  {
   "cell_type": "code",
   "execution_count": null,
   "metadata": {},
   "outputs": [],
   "source": [
    "len(attend_columns)"
   ]
  },
  {
   "cell_type": "code",
   "execution_count": null,
   "metadata": {},
   "outputs": [],
   "source": [
    "len([i for i in df_form.columns if len(df_form[i].unique()) <= 8])"
   ]
  },
  {
   "cell_type": "code",
   "execution_count": null,
   "metadata": {},
   "outputs": [],
   "source": [
    "len([i for i in df_form.columns if len(df_form[i].unique()) < 10])"
   ]
  },
  {
   "cell_type": "code",
   "execution_count": null,
   "metadata": {},
   "outputs": [],
   "source": [
    "len([i for i in df_form.columns if len(df_form[i].unique()) < 20])"
   ]
  },
  {
   "cell_type": "code",
   "execution_count": null,
   "metadata": {},
   "outputs": [],
   "source": [
    "len([i for i in df_form.columns if len(df_form[i].unique()) <= 8 and sum(df_form[i].notnull()) > 100])"
   ]
  },
  {
   "cell_type": "code",
   "execution_count": null,
   "metadata": {},
   "outputs": [],
   "source": [
    "all_attends = df_form[attend_columns].stack()\n",
    "all_attends[~all_attends.isna()].value_counts().plot.pie()"
   ]
  },
  {
   "cell_type": "code",
   "execution_count": null,
   "metadata": {},
   "outputs": [],
   "source": [
    "all_attends[~all_attends.isna()].value_counts().plot.barh()"
   ]
  },
  {
   "cell_type": "code",
   "execution_count": null,
   "metadata": {},
   "outputs": [],
   "source": [
    "all_attends[(~all_attends.isna()) & ('Nezúčastnil(a) jsem se' != all_attends)].value_counts().plot.barh()"
   ]
  },
  {
   "cell_type": "code",
   "execution_count": null,
   "metadata": {},
   "outputs": [],
   "source": [
    "df_app.head()"
   ]
  },
  {
   "cell_type": "code",
   "execution_count": null,
   "metadata": {},
   "outputs": [],
   "source": [
    "df_app.describe()"
   ]
  },
  {
   "cell_type": "code",
   "execution_count": null,
   "metadata": {},
   "outputs": [],
   "source": [
    "def abs_vals(pct, allvals):\n",
    "    absolute = int(pct/100.*np.sum(allvals))\n",
    "    return '{:d}'.format(absolute)\n"
   ]
  },
  {
   "cell_type": "code",
   "execution_count": null,
   "metadata": {},
   "outputs": [],
   "source": [
    "feedback_geo = df_form['Bydliště'].value_counts()\n",
    "feedback_geo.plot.pie(autopct=partial(abs_vals, allvals=feedback_geo))"
   ]
  },
  {
   "cell_type": "code",
   "execution_count": null,
   "metadata": {},
   "outputs": [],
   "source": [
    "#for i in [i for i in df_form.columns if len(df_form[i].unique()) <= 8 and sum(df_form[i].notnull()) > 100]:\n",
    "#    plt.figure()\n",
    "#    feedback_i = df_form[i].value_counts()\n",
    "#    feedback_i.plot.pie(autopct=partial(abs_vals, allvals=feedback_i))\n",
    "#    plt.show()\n",
    "    \n",
    "# todo: dodat filtrování, že tam kde je pod 20 co se zúčastnilia ty vyhodit, udělat i analýzu toho, kdo jak vyplnil zúčastnil/nezúčastnil jsem se"
   ]
  },
  {
   "cell_type": "code",
   "execution_count": null,
   "metadata": {},
   "outputs": [],
   "source": [
    "[i for i in df_form.columns if len(df_form[i].unique()) <= 8 and '[Dozvěděl(a) jsem se zajímavé informace]' not in i and '[Bavil(a) jsem se]' not in i and 'Komentář:' not in i]"
   ]
  },
  {
   "cell_type": "code",
   "execution_count": null,
   "metadata": {},
   "outputs": [],
   "source": [
    "cols_to_plot = [i for i in df_form.columns if len(df_form[i].unique()) <= 8 and '[Dozvěděl(a) jsem se zajímavé informace]' not in i and '[Bavil(a) jsem se]' not in i and 'Komentář:' not in i]\n",
    "cols = 3\n",
    "fig, axes = plt.subplots(int(np.ceil(len(cols_to_plot) / cols)), cols, figsize=(35, 120))\n",
    "\n",
    "for i, col in enumerate(cols_to_plot):\n",
    "    ax = axes[i // cols, i % cols]\n",
    "    #plt.figure()\n",
    "    feedback_i = df_form[col].value_counts()\n",
    "    feedback_i.plot.pie(autopct=partial(abs_vals, allvals=feedback_i), ax=ax, y=None)\n",
    "plt.show()\n",
    "    \n",
    "# todo: dodat filtrování, že tam kde je pod 20 co se zúčastnilia ty vyhodit, udělat i analýzu toho, kdo jak vyplnil zúčastnil/nezúčastnil jsem se"
   ]
  },
  {
   "cell_type": "code",
   "execution_count": null,
   "metadata": {},
   "outputs": [],
   "source": [
    "feedback_times = df_form['Timestamp'].value_counts(sort=False).copy().reindex().resample('1D', how='count')\n",
    "feedback_times.plot.bar()\n",
    "plt.title('Počet vyplnění za den, vše červen')\n",
    "#plt.gca().set_xticklabels([dt.strftime(\"%#d. %#m.\") for dt in feedback_times.index])\n",
    "plt.gca().set_xticklabels([dt.strftime(\"%#d.\") for dt in feedback_times.index])\n",
    "plt.xticks(rotation=0)\n",
    "plt.show()"
   ]
  },
  {
   "cell_type": "code",
   "execution_count": null,
   "metadata": {},
   "outputs": [],
   "source": [
    "program_ratings = df_form[program_columns_ratings].apply(lambda x: x.value_counts(), axis=0)"
   ]
  },
  {
   "cell_type": "code",
   "execution_count": null,
   "metadata": {},
   "outputs": [],
   "source": [
    "attended_col = (program_ratings.loc['dobré'].fillna(0) + program_ratings.loc['v pohodě'].fillna(0) + program_ratings.loc['špatné'].fillna(0)).rename('Zúčastnil(a) jsem se')\n",
    "program_attends = pd.concat((attended_col, program_ratings.loc['Nedostal(a) jsem se']), axis=1)\n",
    "program_attends.head()"
   ]
  },
  {
   "cell_type": "code",
   "execution_count": null,
   "metadata": {},
   "outputs": [],
   "source": [
    "program_ratings = program_ratings.drop('Nezúčastnil(a) jsem se')"
   ]
  },
  {
   "cell_type": "code",
   "execution_count": null,
   "metadata": {},
   "outputs": [],
   "source": [
    "program_ratings"
   ]
  },
  {
   "cell_type": "code",
   "execution_count": null,
   "metadata": {},
   "outputs": [],
   "source": [
    "def remove_suffix(string):\n",
    "    return string.replace(' [Dozvěděl(a) jsem se zajímavé informace]', '').replace(' [Bavil(a) jsem se]', '')\n",
    "program_ratings.groupby(program_ratings.columns.map(remove_suffix), axis=1).max()"
   ]
  },
  {
   "cell_type": "code",
   "execution_count": null,
   "metadata": {},
   "outputs": [],
   "source": [
    "type_to_color = {'přednášky': 'g', 'workshopy': 'purple', 'soutěže': 'yellow', 'doplňkový program': 'b', 'promítání': 'r', 'divadlo': 'pink'}\n",
    "def patch_label_coords(p):\n",
    "    offset = 0\n",
    "    if p.get_width() < 0:\n",
    "        offset = - 0.03\n",
    "    return p.get_x() + p.get_width() + offset, p.get_y() - 0.25"
   ]
  },
  {
   "cell_type": "code",
   "execution_count": null,
   "metadata": {},
   "outputs": [],
   "source": [
    "program_attends.T.groupby(program_ratings.columns.map(remove_suffix), axis=1).max().T.sort_values('Zúčastnil(a) jsem se', ascending=True).plot.barh(stacked=True, figsize=(30, 50))"
   ]
  },
  {
   "cell_type": "markdown",
   "metadata": {},
   "source": [
    "#### splitting program to categories"
   ]
  },
  {
   "cell_type": "code",
   "execution_count": null,
   "metadata": {},
   "outputs": [],
   "source": [
    "categories = {\n",
    "    'soutěže': [ \n",
    "        'Animekvíz', 'Cosplay debut', 'Cosplay soutěž', 'Cosplay video', 'Festdance', 'Soutěžní AMV', 'Vyhlášení výsledků', \n",
    "    ], \n",
    "    'přednášky': [\n",
    "        '12 ran cosplayerových', '2. světová válka z pohledu Japonska a život císaře Hirohita', '3D tisk v cosplayi: Od modelování po barvení', 'Alternativní móda: Od ponožky po klobouk', 'An Introduction to Leather Crafting', \n",
    "        'Anime světy, ve kterých (ne)chcete žít', 'BJD od Ludvíka XIV. až po BTS', 'Bojuj podle svého charakteru', 'Cosplay and Otaku History in Japan', 'Cosplay armor: From reference to wearable costume', \n",
    "        'Crossdressing - the hell is dat?', 'Designing Male Characters Fanservice: The Struggle', 'Do Japonska za idoly', 'Doll Photography', 'Fake Is Sad/Bootleg Panel', 'Filmoví skladatelé Japonska č. 2', \n",
    "        'Gača hry aneb Lootboxy na asijský způsob', 'Gejša: Tajemství za stěnami čajovny', 'Ghibli známé neznámé', 'Godzilla, just a rubber monster, right?', 'Gothic – hudba, móda, subkultura', \n",
    "        'Historická přesnost zbrojí v anime na vybraných příkladech', 'Indonésie – země ohně', 'Jak na anime make-up', 'Jak na psaní – Od teorie k praxi', 'Jak se připravit na cosplay focení', 'Jak sehnat (nejen) jaoi v totalitním státu', \n",
    "        'Jak si plnit sny pomocí anime', 'Japanacorps, WTF?!', 'Japonský rok v emodži', 'Letem jiným světem', 'Lolitou každý den', 'Líčení pro trdla od trdla', 'Madoka Magica a ti druzí, co selhali', 'Manga novinky u nás!', \n",
    "        'Manga pro dospívající dívky: Co na ní milujeme a nesnášíme', 'Maul Cosplay Q&A', 'My Hero Academy', 'Módní přehlídka 101', 'Nebojte se zahraničních soutěží!', 'Nový kreslíř na scéně: umělá inteligence!', \n",
    "        'Očekávání vs. realita: Člověk 2.0, mecha a vesmírné lodě', 'Pen & Paper role-playing hry', 'Proč (ne)jet do Jižní Koreje', 'Receptář tetičky Mitsu nejen pro začínající lolity', 'Remaky anime', 'Reputace & renesance D&D', \n",
    "        'Resident Evil – Od zrození po současnost', 'Rámen po česku', 'Sekiro, Nioh a ti další…', 'Slasti a strasti japonského randění', 'Slavnostní zahájení + křest Vějíře', 'Stereotyp – NÁMITKA!', 'Svět japonských idolů', \n",
    "        'Taková normální japonská rodinka', 'Viktoriánské úpravy vlasů', 'World cosplay panel', 'Zakončení conu', 'Zákeřné vody videoherního pirátství', \n",
    "    ], \n",
    "    'workshopy': [\n",
    "        'Aikido Ikigai Dojo Brno', 'Aikikai Aikido Brno', 'Boj dýkou a nožem', 'Boj tesákem', 'Choker', 'Cosplay Act Workshop', 'Yoshinkan aikido', 'Kaligrafie', 'Kendo', 'Kensei Dojo Brno', 'Kimono workshop', 'Sraz AMV', \n",
    "        'Háčkování plyšových zvířátek', 'I pád je posun vpřed', 'Jak se při cosplayi neztrapnit se zbraní', 'Jo, bokken, tanto aneb Obrana proti japonským zbraním', 'Květiny Ikebana', 'Mák a jeho klacek aneb I monk si s holí leccos dovolí', \n",
    "        'Náušnice ze skleněných kapek', 'Od základů po pokročilejší retuše nejen cosplay fotografie', 'Omalovánky', 'Origami Workshop', 'Rozcvička pro družinku aneb Dračí doupě po ránu', 'Rytíř, meč a štít aneb Líný šerm', \n",
    "        'Růže ze saténových stužek', 'Sebeobrana nejen pro dámy', 'Sebeobrana po japonsku', 'Taneční k-pop workshop', 'Vyšívání', 'Válečník mazlivě obouručákem tě mlaskne', 'Výroba vlastního diáře/skicáku', \n",
    "        'Workshop animace v Clip Studio Paint', 'Základy svícení s profesionálními záblesky a jejich modifikátory'\n",
    "    ], \n",
    "    'promítání': [\n",
    "        '3D holka', 'A to je špatně, když se chodím seznamovat do kobek? Orionův šíp', 'Bůh žehnej tomuto nádhernému světu', 'Fashion Mix', 'Gamers!', 'Já malý čarodějka', 'Květina zaslíbená rannímu loučení', 'Lolita Music Mix: Novinky', \n",
    "        'Mirai, dívka z budoucnosti', 'Módní kolekce 2019', 'Noc je krátká, tak kráčej dál, děvče', 'Penguin Highway', 'Pohodářky', 'ReLIFE', 'Symfonie z jiného světa', 'Tipy pro život mimo realitu', 'Vzestup hrdiny štítu', \n",
    "        'Zombie Land Saga', \n",
    "    ],\n",
    "    'doplňkový program': [\n",
    "        'AMV Budíček', 'AMV Mortal Combat', 'AMV Nočník', 'AMV Večerníček', 'BTS Army sraz', 'Vějíř – autogramiáda a beseda', 'Anime novinky očima protřelých fanoušků', 'Budoucnost českých anime conů', \n",
    "        'K-pop – random dance CZHW', 'Sčítání žije!', 'Turnaj v šermu Aréna Alerie', 'Dračí doupě', \n",
    "    ],\n",
    "    'divadlo': ['Festovní koncert', 'Kamui – The Samurai Sword Artists', 'Lolita Fashion Show', 'Malé divadlo kjógenu', ],\n",
    "    }"
   ]
  },
  {
   "cell_type": "code",
   "execution_count": null,
   "metadata": {},
   "outputs": [],
   "source": [
    "col_to_category = {col: category for category, cols in categories.items() for col in cols}\n",
    "col_to_category"
   ]
  },
  {
   "cell_type": "code",
   "execution_count": null,
   "metadata": {},
   "outputs": [],
   "source": [
    "program_attendance = program_attends.T.groupby(program_ratings.columns.map(remove_suffix), axis=1).max().T['Zúčastnil(a) jsem se'].to_frame()\n",
    "program_attendance['type'] = program_attendance.index.to_series().map(col_to_category)\n",
    "\n",
    "sorted_attendance = program_attendance.sort_values(by='Zúčastnil(a) jsem se', ascending=True)\n",
    "sorted_attendance['Zúčastnil(a) jsem se'].plot.barh(stacked=True, figsize=(30, 50), color=sorted_attendance['type'].map(type_to_color))\n",
    "for p in plt.gca().patches:\n",
    "    plt.gca().annotate(\"%.0f\" % p.get_width(), patch_label_coords(p), xytext=(5, 10), textcoords='offset points')"
   ]
  },
  {
   "cell_type": "code",
   "execution_count": null,
   "metadata": {},
   "outputs": [],
   "source": [
    "program_attendance['type'] = program_attendance.index.to_series().map(col_to_category)\n",
    "program_attendance.head()"
   ]
  },
  {
   "cell_type": "code",
   "execution_count": null,
   "metadata": {},
   "outputs": [],
   "source": [
    "program_attendance.groupby('type')['Zúčastnil(a) jsem se'].sum().sort_values(ascending=True).plot.barh()"
   ]
  },
  {
   "cell_type": "code",
   "execution_count": null,
   "metadata": {},
   "outputs": [],
   "source": [
    "program_attendance.groupby('type')['Zúčastnil(a) jsem se'].mean().sort_values(ascending=True).plot.barh()"
   ]
  },
  {
   "cell_type": "code",
   "execution_count": null,
   "metadata": {},
   "outputs": [],
   "source": [
    "program_attendance.groupby('type')['Zúčastnil(a) jsem se'].count().sort_values(ascending=True).plot.barh()"
   ]
  },
  {
   "cell_type": "code",
   "execution_count": null,
   "metadata": {},
   "outputs": [],
   "source": [
    "sns.violinplot(x='type', y='Zúčastnil(a) jsem se', data=program_attendance, inner='stick', bw=.3)\n",
    "plt.title('návštěvnost')\n",
    "plt.xticks(rotation=15)"
   ]
  },
  {
   "cell_type": "code",
   "execution_count": null,
   "metadata": {},
   "outputs": [],
   "source": [
    "rating_to_num = {'špatné': -1, 'v pohodě': 0, 'dobré': 1}\n",
    "fill_to_num = {'chci hodnotit stručně': -1, 'chci hodnotit podrobně': 1}\n",
    "app_to_num = {'Ne': -1, 'Ne, nevědel sem o ní': -1, 'Ne, z jiného důvodu': -1, 'Ne, nemám podporované zařízení': -1, 'Ne, nedokázal jsem ji spustit': -1, 'Ne, nezajímá mě': -1, np.nan: 0, 'Ano': 1}\n",
    "bool_to_num = {'Ne': -1, np.nan: 0, 'Ano': 1}\n",
    "age_to_num = {'13-15': 1, '16-18': 2, '19-25': 3, '26 a více': 4}\n",
    "    \n",
    "#sns.pairplot(df_form[cols_to_plot], hue='Pohlaví')\n",
    "plt.figure(figsize=(20, 20))\n",
    "g = sns.pairplot(df_form[['Věk', 'Pohlaví', 'Jak podrobně chcete hodnotit?', 'Připadá vám AF téma pro zážitek na conu důležité?', 'Používali jste Animefest aplikaci?']].replace({\n",
    "    'Věk': age_to_num, 'Jak podrobně chcete hodnotit?': fill_to_num, 'Připadá vám AF téma pro zážitek na conu důležité?': bool_to_num, 'Používali jste Animefest aplikaci?': app_to_num\n",
    "}), hue='Pohlaví')\n",
    "[plt.setp(ax.xaxis.get_label(), rotation=15) for ax in g.axes.flat]\n",
    "[plt.setp(ax.yaxis.get_label(), rotation=75) for ax in g.axes.flat]\n"
   ]
  },
  {
   "cell_type": "code",
   "execution_count": null,
   "metadata": {},
   "outputs": [],
   "source": [
    "program_ratings_fun = program_ratings[program_columns + fun_suffix].loc[['dobré', 'špatné', 'v pohodě']].T.fillna(0)\n",
    "program_ratings_fun.head()"
   ]
  },
  {
   "cell_type": "code",
   "execution_count": null,
   "metadata": {},
   "outputs": [],
   "source": [
    "program_ratings_info = program_ratings[program_columns + info_suffix].loc[['dobré', 'špatné', 'v pohodě']].T.fillna(0)\n",
    "program_ratings_info.head()"
   ]
  },
  {
   "cell_type": "code",
   "execution_count": null,
   "metadata": {},
   "outputs": [],
   "source": [
    "program_fun_score = (program_ratings_fun['dobré'] * 1 + program_ratings_fun['v pohodě'] * 0 + program_ratings_fun['špatné'] * -1) / program_ratings_fun.sum(axis=1)\n",
    "program_fun_score.index = program_fun_score.index.str.replace(fun_suffix, '', regex=False)\n",
    "program_fun_score.head()"
   ]
  },
  {
   "cell_type": "code",
   "execution_count": null,
   "metadata": {},
   "outputs": [],
   "source": [
    "program_info_score = (program_ratings_info['dobré'] * 1 + program_ratings_info['v pohodě'] * 0 + program_ratings_info['špatné'] * -1) / program_ratings_info.sum(axis=1)\n",
    "program_info_score.index = program_info_score.index.str.replace(info_suffix, '', regex=False)\n",
    "program_info_score.head()\n"
   ]
  },
  {
   "cell_type": "code",
   "execution_count": null,
   "metadata": {},
   "outputs": [],
   "source": [
    "program_fun_score = program_fun_score.to_frame('score')\n",
    "program_fun_score['type'] = program_fun_score.index.to_series().map(col_to_category)\n",
    "program_fun_score.head()"
   ]
  },
  {
   "cell_type": "code",
   "execution_count": null,
   "metadata": {},
   "outputs": [],
   "source": [
    "program_info_score = program_info_score.to_frame('score')\n",
    "program_info_score['type'] = program_info_score.index.to_series().map(col_to_category)\n",
    "program_info_score.head()"
   ]
  },
  {
   "cell_type": "code",
   "execution_count": null,
   "metadata": {},
   "outputs": [],
   "source": [
    "sorted_score = program_fun_score.sort_values(by='score', ascending=True)\n",
    "sorted_score['score'].plot.barh(figsize=(30, 50), color=sorted_score['type'].map(type_to_color))\n",
    "for p in plt.gca().patches:\n",
    "    plt.gca().annotate(\"%.2f\" % p.get_width(), patch_label_coords(p), xytext=(5, 10), textcoords='offset points')"
   ]
  },
  {
   "cell_type": "code",
   "execution_count": null,
   "metadata": {},
   "outputs": [],
   "source": [
    "sorted_score = program_info_score.sort_values(by='score', ascending=True)\n",
    "sorted_score['score'].plot.barh(figsize=(30, 50), color=sorted_score['type'].map(type_to_color))\n",
    "for p in plt.gca().patches:\n",
    "    plt.gca().annotate(\"%.2f\" % p.get_width(), patch_label_coords(p), xytext=(5, 10), textcoords='offset points')"
   ]
  },
  {
   "cell_type": "code",
   "execution_count": null,
   "metadata": {},
   "outputs": [],
   "source": [
    "sns.violinplot(x='type', y='score', data=program_fun_score, inner='stick', bw=.3)\n",
    "plt.title('zábavnost')\n",
    "plt.xticks(rotation=15)"
   ]
  },
  {
   "cell_type": "code",
   "execution_count": null,
   "metadata": {},
   "outputs": [],
   "source": [
    "sns.violinplot(x='type', y='score', data=program_info_score, inner='stick', bw=.3)\n",
    "plt.title('informovanost')\n",
    "plt.xticks(rotation=15)"
   ]
  },
  {
   "cell_type": "code",
   "execution_count": null,
   "metadata": {},
   "outputs": [],
   "source": [
    "### can't see number of them, need parallel sets"
   ]
  },
  {
   "cell_type": "code",
   "execution_count": null,
   "metadata": {},
   "outputs": [],
   "source": [
    "{i: df_form[i].unique() for i in cols_to_plot}"
   ]
  },
  {
   "cell_type": "code",
   "execution_count": null,
   "metadata": {},
   "outputs": [],
   "source": [
    "import plotly.graph_objects as go\n",
    "\n",
    "titanic_df = pd.read_csv(\"https://raw.githubusercontent.com/plotly/datasets/master/titanic.csv\")\n",
    "\n",
    "# Create dimensions\n",
    "class_dim = go.parcats.Dimension(\n",
    "    values=titanic_df.Pclass,\n",
    "    categoryorder='category ascending', label=\"Class\"\n",
    ")\n",
    "\n",
    "gender_dim = go.parcats.Dimension(values=titanic_df.Sex, label=\"Gender\")\n",
    "\n",
    "survival_dim = go.parcats.Dimension(\n",
    "    values=titanic_df.Survived, label=\"Outcome\", categoryarray=[0, 1], \n",
    "    ticktext=['perished', 'survived']\n",
    ")\n",
    "\n",
    "# Create parcats trace\n",
    "color = titanic_df.Survived;\n",
    "colorscale = [[0, 'lightsteelblue'], [1, 'mediumseagreen']];\n",
    "\n",
    "fig = go.Figure(data = [go.Parcats(dimensions=[class_dim, gender_dim, survival_dim],\n",
    "        line={'color': color, 'colorscale': colorscale},\n",
    "        hoveron='color', hoverinfo='count+probability',\n",
    "        labelfont={'size': 18, 'family': 'Times'},\n",
    "        tickfont={'size': 16, 'family': 'Times'},\n",
    "        arrangement='freeform')])\n",
    "\n",
    "fig.show()"
   ]
  },
  {
   "cell_type": "code",
   "execution_count": null,
   "metadata": {},
   "outputs": [],
   "source": [
    "titanic_df.head()"
   ]
  },
  {
   "cell_type": "code",
   "execution_count": null,
   "metadata": {},
   "outputs": [],
   "source": [
    "\n",
    "df_form['af_aplikace_bool'] = df_form['Používali jste Animefest aplikaci?'].replace({'Ne, nedokázal jsem ji spustit': 'Ne', 'Ne, nemám podporované zařízení': 'Ne', 'Ne, nevědel sem o ní': 'Ne', 'Ne, nezajímá mě': 'Ne', 'Ne, z jiného důvodu': 'Ne'})\n",
    "\n",
    "# Create dimensions\n",
    "age_dim = go.parcats.Dimension(\n",
    "    values=df_form['Věk'],\n",
    "    categoryorder='category ascending', label='Věk'\n",
    ")\n",
    "\n",
    "gender_dim = go.parcats.Dimension(\n",
    "    values=df_form['Pohlaví'],\n",
    "    categoryorder='category ascending', label='Pohlaví'\n",
    ")\n",
    "\n",
    "place_dim = go.parcats.Dimension(\n",
    "    values=df_form['Bydliště'],\n",
    "    categoryorder='category ascending', label='Bydliště'\n",
    ")\n",
    "\n",
    "detail_dim = go.parcats.Dimension(\n",
    "    values=df_form['Jak podrobně chcete hodnotit?'],\n",
    "    categoryorder='category ascending', label='Podrobné hodnocení'\n",
    ")\n",
    "\n",
    "app_detailed_dim = go.parcats.Dimension(\n",
    "    values=df_form['Používali jste Animefest aplikaci?'],\n",
    "    categoryorder='category ascending', label='Používání AF aplikace'\n",
    ")\n",
    "\n",
    "app_dim = go.parcats.Dimension(\n",
    "    values=df_form['Používali jste Animefest aplikaci?'].replace({'Ne, nedokázal jsem ji spustit': 'Ne', 'Ne, nemám podporované zařízení': 'Ne', 'Ne, nevědel sem o ní': 'Ne', 'Ne, nezajímá mě': 'Ne', 'Ne, z jiného důvodu': 'Ne'}),\n",
    "    categoryorder='category ascending', label='Používání AF aplikace'\n",
    ")\n",
    "\n",
    "\n",
    "souvenirs_price_dim = go.parcats.Dimension(\n",
    "    values=df_form['Cena AF suvenýrů je přiměřená?'],\n",
    "    categoryorder='category ascending', label='Cena suvenýrů'\n",
    ")\n",
    "\n",
    "more_souvenirs_dim = go.parcats.Dimension(\n",
    "    values=df_form['Uvítali byste nějaké další suvenýry?'],\n",
    "    categoryorder='category ascending', label='Více suvenýrů?'\n",
    ")\n",
    "\n",
    "# not filled in detailed version\n",
    "factions_dim = go.parcats.Dimension(\n",
    "    values=df_form['Letošní téma a frakce'],\n",
    "    categoryorder='category ascending', label='téma a frakce'\n",
    ")\n",
    "\n",
    "video_dim = go.parcats.Dimension(\n",
    "    values=df_form['Úvodní/závěrečné video'],\n",
    "    categoryorder='category ascending', label='Úvodní/závěrečné video'\n",
    ")\n",
    "\n",
    "points_dim = go.parcats.Dimension(\n",
    "    values=df_form['Sbírání bodů'],\n",
    "    categoryorder='category ascending', label='Sbírání bodů'\n",
    ")\n",
    "\n",
    "theme_dim = go.parcats.Dimension(\n",
    "    values=df_form['Připadá vám AF téma pro zážitek na conu důležité?'],\n",
    "    categoryorder='category ascending', label='Je AF téma důležité?'\n",
    ")\n",
    "\n",
    "\n",
    "# Create parcats trace\n",
    "#color = df_form['Pohlaví'].replace({'muž': 0, 'žena': 0.3, 'jiné': 0.6, np.nan: 1})\n",
    "color = df_form['Úvodní/závěrečné video'].replace({'dobré': 0, 'v pohodě': 0.2, 'špatné': 0.4, 'Nevím o co jde': 0.6, np.nan: 1})\n",
    "#colorscale = [[0, 'steelblue'], [0.3, 'indianred'], [0.6, 'gray'], [1, 'dimgray']];\n",
    "\n",
    "fig = go.Figure(data = [go.Parcats(dimensions=\n",
    "#                                  [age_dim, gender_dim, app_dim, souvenirs_price_dim, video_dim, theme_dim],\n",
    "                                   [age_dim, gender_dim, video_dim, theme_dim],\n",
    "#        line={'color': color, 'colorscale': colorscale},\n",
    "        line={'color': color},\n",
    "        hoveron='color', hoverinfo='count+probability',\n",
    "        labelfont={'size': 18, 'family': 'Times'},\n",
    "        tickfont={'size': 16, 'family': 'Times'},\n",
    "        arrangement='freeform')])\n",
    "\n",
    "fig.show()"
   ]
  },
  {
   "cell_type": "code",
   "execution_count": null,
   "metadata": {},
   "outputs": [],
   "source": [
    "df = df_form[['Věk', 'Pohlaví', 'Kromě letošního ročníku jsem na Animefestu byl(a)', 'Připadá vám AF téma pro zážitek na conu důležité?', 'Úvodní/závěrečné video']].dropna()\n",
    "df['Kromě letošního ročníku jsem na Animefestu byl(a)'] = df['Kromě letošního ročníku jsem na Animefestu byl(a)'].replace({'6x': '6x+', '7x': '6x+', '8x': '6x+', '9x': '6x+', \n",
    "                                                                                                                           '10x': '6x+', '11x': '6x+', '12x': '6x+', '13x': '6x+', '14x': '6x+'})\n",
    "# Create dimensions\n",
    "age_dim = go.parcats.Dimension(\n",
    "    values=df['Věk'],\n",
    "    categoryorder='category ascending', label='Věk'\n",
    ")\n",
    "\n",
    "gender_dim = go.parcats.Dimension(\n",
    "    values=df['Pohlaví'],\n",
    "    categoryorder='category ascending', label='Pohlaví'\n",
    ")\n",
    "\n",
    "num_visits_dim = go.parcats.Dimension(\n",
    "    values=df['Kromě letošního ročníku jsem na Animefestu byl(a)'],\n",
    "    categoryorder='category ascending', label='Kolikrát předtím na AF'\n",
    ")\n",
    "\n",
    "video_dim = go.parcats.Dimension(\n",
    "    values=df['Úvodní/závěrečné video'],\n",
    "    categoryorder='category ascending', label='Úvodní/závěrečné video'\n",
    ")\n",
    "\n",
    "theme_dim = go.parcats.Dimension(\n",
    "    values=df['Připadá vám AF téma pro zážitek na conu důležité?'],\n",
    "    categoryorder='category ascending', label='Je AF téma důležité?'\n",
    ")\n",
    "\n",
    "\n",
    "# Create parcats trace\n",
    "#color = df_form['Pohlaví'].replace({'muž': 0, 'žena': 0.3, 'jiné': 0.6, np.nan: 1})\n",
    "color = df['Úvodní/závěrečné video'].replace({'dobré': 0, 'v pohodě': 0.2, 'špatné': 0.4, 'Nevím o co jde': 0.6, np.nan: 1})\n",
    "#colorscale = [[0, 'steelblue'], [0.3, 'indianred'], [0.6, 'gray'], [1, 'dimgray']];\n",
    "\n",
    "fig = go.Figure(data = [go.Parcats(dimensions=\n",
    "                                   [age_dim, gender_dim, num_visits_dim, video_dim, theme_dim],\n",
    "#        line={'color': color, 'colorscale': colorscale},\n",
    "        line={'color': color},\n",
    "        hoveron='color', hoverinfo='count+probability',\n",
    "        labelfont={'size': 18, 'family': 'Times'},\n",
    "        tickfont={'size': 16, 'family': 'Times'},\n",
    "        arrangement='freeform')])\n",
    "\n",
    "fig.show()"
   ]
  },
  {
   "cell_type": "code",
   "execution_count": null,
   "metadata": {},
   "outputs": [],
   "source": [
    "df = df_form[['Věk', 'Pohlaví', 'Cena AF suvenýrů je přiměřená?']].dropna()\n",
    "\n",
    "# Create dimensions\n",
    "age_dim = go.parcats.Dimension(\n",
    "    values=df['Věk'],\n",
    "    categoryorder='category ascending', label='Věk'\n",
    ")\n",
    "\n",
    "gender_dim = go.parcats.Dimension(\n",
    "    values=df['Pohlaví'],\n",
    "    categoryorder='category ascending', label='Pohlaví'\n",
    ")\n",
    "\n",
    "souvenirs_price_dim = go.parcats.Dimension(\n",
    "    values=df['Cena AF suvenýrů je přiměřená?'],\n",
    "    categoryorder='category ascending', label='Cena suvenýrů'\n",
    ")\n",
    "\n",
    "# Create parcats trace\n",
    "color = df_form['Pohlaví'].replace({'muž': 0, 'žena': 0.3, 'jiné': 0.6, np.nan: 1})\n",
    "colorscale = [[0, 'steelblue'], [0.3, 'indianred'], [0.6, 'gray'], [1, 'dimgray']];\n",
    "\n",
    "fig = go.Figure(data = [go.Parcats(dimensions=[age_dim, gender_dim, souvenirs_price_dim],\n",
    "        #line={'color': color, 'colorscale': colorscale},\n",
    "        hoveron='color', hoverinfo='count+probability',\n",
    "        labelfont={'size': 18, 'family': 'Times'},\n",
    "        tickfont={'size': 16, 'family': 'Times'},\n",
    "        arrangement='freeform')])\n",
    "\n",
    "fig.show()"
   ]
  },
  {
   "cell_type": "code",
   "execution_count": null,
   "metadata": {},
   "outputs": [],
   "source": [
    "# for souvenirs price\n",
    "\n",
    "df = df_form[['Věk', 'Bydliště', 'Pohlaví', 'Cena vstupného je…', 'Cena AF suvenýrů je přiměřená?']].dropna()\n",
    "\n",
    "# Create dimensions\n",
    "age_dim = go.parcats.Dimension(\n",
    "    values=df['Věk'],\n",
    "    categoryorder='category ascending', label='Věk'\n",
    ")\n",
    "\n",
    "place_dim = go.parcats.Dimension(\n",
    "    values=df['Bydliště'],\n",
    "    categoryorder='category ascending', label='Bydliště'\n",
    ")\n",
    "\n",
    "gender_dim = go.parcats.Dimension(\n",
    "    values=df['Pohlaví'],\n",
    "    categoryorder='category ascending', label='Pohlaví'\n",
    ")\n",
    "\n",
    "ticket_price_dim = go.parcats.Dimension(\n",
    "    values=df['Cena vstupného je…'],\n",
    "    categoryorder='category ascending', label='Cena vstupenek'\n",
    ")\n",
    "\n",
    "souvenirs_price_dim = go.parcats.Dimension(\n",
    "    values=df['Cena AF suvenýrů je přiměřená?'],\n",
    "    categoryorder='category ascending', label='Cena suvenýrů'\n",
    ")\n",
    "\n",
    "# Create parcats trace\n",
    "color = df['Pohlaví'].replace({'muž': 0, 'žena': 0.3, 'jiné': 0.6, np.nan: 1})\n",
    "colorscale = [[0, 'steelblue'], [0.3, 'indianred'], [0.6, 'gray'], [1, 'dimgray']];\n",
    "\n",
    "fig = go.Figure(data = [go.Parcats(dimensions=[age_dim, gender_dim, ticket_price_dim, souvenirs_price_dim],\n",
    "        line={'color': color, 'colorscale': colorscale},\n",
    "        hoveron='color', hoverinfo='count+probability',\n",
    "        labelfont={'size': 18, 'family': 'Times'},\n",
    "        tickfont={'size': 16, 'family': 'Times'},\n",
    "        arrangement='freeform')])\n",
    "\n",
    "fig.show()"
   ]
  },
  {
   "cell_type": "markdown",
   "metadata": {},
   "source": [
    "'Dám i víc' dali jen muži 19+"
   ]
  },
  {
   "cell_type": "markdown",
   "metadata": {},
   "source": [
    "### counting conditional probabilities"
   ]
  },
  {
   "cell_type": "code",
   "execution_count": null,
   "metadata": {},
   "outputs": [],
   "source": [
    "def cond_probs(df, factors, column):\n",
    "    temp_df = df.groupby(factors)[column].value_counts() / df.groupby(factors)[column].count()\n",
    "    temp_df = temp_df.unstack(level=-1)\n",
    "    if np.nan in temp_df.columns:\n",
    "        temp_df = temp_df.drop(columns=np.nan)\n",
    "    return temp_df"
   ]
  },
  {
   "cell_type": "code",
   "execution_count": null,
   "metadata": {},
   "outputs": [],
   "source": [
    "cond_probs(df_form, 'Pohlaví', 'Cena AF suvenýrů je přiměřená?')"
   ]
  },
  {
   "cell_type": "code",
   "execution_count": null,
   "metadata": {},
   "outputs": [],
   "source": [
    "cond_probs(df_form[df_form['Pohlaví'] != 'jiné'], ['Věk', 'Pohlaví'], 'Cena AF suvenýrů je přiměřená?')"
   ]
  },
  {
   "cell_type": "code",
   "execution_count": null,
   "metadata": {},
   "outputs": [],
   "source": [
    "cond_probs(df_form[df_form['Pohlaví'] != 'jiné'], ['Věk', 'Pohlaví'], 'Používali jste Animefest aplikaci?')"
   ]
  },
  {
   "cell_type": "code",
   "execution_count": null,
   "metadata": {},
   "outputs": [],
   "source": [
    "cond_probs(df_form[df_form['Pohlaví'] != 'jiné'], ['Věk', 'Pohlaví'], 'Úvodní/závěrečné video')"
   ]
  },
  {
   "cell_type": "code",
   "execution_count": null,
   "metadata": {},
   "outputs": [],
   "source": [
    "cond_probs(df_form[df_form['Pohlaví'] != 'jiné'], ['Věk', 'Pohlaví'], 'Připadá vám AF téma pro zážitek na conu důležité?')"
   ]
  },
  {
   "cell_type": "code",
   "execution_count": null,
   "metadata": {},
   "outputs": [],
   "source": [
    "cond_probs(df_form, ['Připadá vám AF téma pro zážitek na conu důležité?'], 'Úvodní/závěrečné video')"
   ]
  },
  {
   "cell_type": "code",
   "execution_count": null,
   "metadata": {},
   "outputs": [],
   "source": [
    "cond_probs(df_form[df_form['Pohlaví'] != 'jiné'], ['Věk', 'Pohlaví', 'Úvodní/závěrečné video'], 'Připadá vám AF téma pro zážitek na conu důležité?')"
   ]
  },
  {
   "cell_type": "code",
   "execution_count": null,
   "metadata": {},
   "outputs": [],
   "source": [
    "cols_to_plot"
   ]
  },
  {
   "cell_type": "code",
   "execution_count": null,
   "metadata": {},
   "outputs": [],
   "source": [
    "df_form.head()"
   ]
  },
  {
   "cell_type": "code",
   "execution_count": null,
   "metadata": {},
   "outputs": [],
   "source": [
    "titanic_df.head()"
   ]
  },
  {
   "cell_type": "code",
   "execution_count": null,
   "metadata": {},
   "outputs": [],
   "source": [
    "people_ratings = df_form[program_columns_ratings].apply(lambda x: x.value_counts(), axis=1)\n",
    "people_ratings = people_ratings.dropna(axis='rows', how='all', subset=['dobré', 'v pohodě', 'špatné']).fillna(0)\n",
    "people_ratings.head()"
   ]
  },
  {
   "cell_type": "code",
   "execution_count": null,
   "metadata": {},
   "outputs": [],
   "source": [
    "people_score = (people_ratings['dobré'] * 1 + people_ratings['v pohodě'] * 0 + people_ratings['špatné'] * -1) / people_ratings.sum(axis=1)\n",
    "people_score.head()"
   ]
  },
  {
   "cell_type": "code",
   "execution_count": null,
   "metadata": {},
   "outputs": [],
   "source": [
    "people_score.plot.hist(bins=200, figsize=(20, 10))"
   ]
  },
  {
   "cell_type": "code",
   "execution_count": null,
   "metadata": {},
   "outputs": [],
   "source": [
    "#people_score.plot.hist(bins=200, figsize=(20, 10))\n",
    "#sns.violinplot(x='type', y='score', data=people_score, inner='stick', bw=.3)\n",
    "sns.violinplot(data=people_score.to_frame(), inner='stick', bw=.2)\n",
    "plt.title('informovanost')\n",
    "plt.xticks(rotation=15)"
   ]
  },
  {
   "cell_type": "code",
   "execution_count": null,
   "metadata": {},
   "outputs": [],
   "source": [
    "#people_score.plot.hist(bins=200, )\n",
    "#sns.violinplot(x='type', y='score', data=people_score, inner='stick', bw=.3)\n",
    "data_to_plot = pd.merge(df_form[['Věk', 'Pohlaví']], people_score.to_frame(name='score'), left_index=True, right_index=True).sort_values(by='Věk')\n",
    "plt.figure(figsize=(20, 10))\n",
    "sns.violinplot(x='Věk', y='score', hue='Pohlaví', data=data_to_plot, inner='stick', bw=.3)\n",
    "plt.title('průměrné hodnocení')\n",
    "plt.xticks(rotation=15)"
   ]
  },
  {
   "cell_type": "markdown",
   "metadata": {},
   "source": [
    "### analysis of open answers"
   ]
  },
  {
   "cell_type": "code",
   "execution_count": null,
   "metadata": {},
   "outputs": [],
   "source": [
    "from urllib import request\n",
    "\n",
    "data = request.urlopen('https://raw.githubusercontent.com/stopwords-iso/stopwords-cs/master/stopwords-cs.txt')\n",
    "all_stopwords = [line.decode('utf-8').replace('\\n', '') for line in data]\n",
    "# todo: split them correctly and for vocalulary calculation use only emotes filtering\n",
    "emotes_stopwords = [':d', ':', '\\?', ';', ':-d', '\\^\\^', ':dd', 'xd', ':3', '=d', ':p',  ':/', ':>', '\\+', 'o_o', 'd:', '>', ':\\'d', ':\"d', '\\n', ':dd', ':ddd', ':dddd', 'x', 'xp']\n",
    "my_stopwords = ['no', '', 'jo', 'sa', 'the', '=d', 'fakt', 'celkem', 'sem', 'ja', 'som', 'ako', 'of', 'nekdo', 'bych', 'sou', '2', 'jj', 'is', 'mam', '3', '\\n']\n",
    "all_stopwords += my_stopwords\n",
    "all_stopwords += emotes_stopwords\n",
    "\n",
    "def messages_to_words_hist(mess_series):\n",
    "    mess_series = mess_series.fillna('')\n",
    "    all_words = mess_series.str.split(' ', expand=True).stack().reset_index(drop=True, level=1)\n",
    "    words_historgram = all_words.str.lower().str.strip('.,?-–()').value_counts()\n",
    "    stopwords = list(set(all_stopwords).intersection(set(words_historgram.index)))\n",
    "    words_historgram_cleaned = words_historgram.drop(stopwords)\n",
    "    return words_historgram_cleaned\n"
   ]
  },
  {
   "cell_type": "code",
   "execution_count": null,
   "metadata": {},
   "outputs": [],
   "source": [
    "best_mess = messages_to_words_hist(df_form['S čím jste byli letos nejvíce spokojeni / co se vám nejvíce líbilo?'])\n",
    "best_mess[:30].plot.bar(figsize=(30, 10), title='S čím jste byli letos nejvíce spokojeni / co se vám nejvíce líbilo?')\n",
    "plt.xticks(rotation=30)"
   ]
  },
  {
   "cell_type": "code",
   "execution_count": null,
   "metadata": {},
   "outputs": [],
   "source": [
    "with pd.option_context('display.max_colwidth', 150):\n",
    "    display(df_form[df_form['S čím jste byli letos nejvíce spokojeni / co se vám nejvíce líbilo?'].str.contains('přednášky', regex=False)]['S čím jste byli letos nejvíce spokojeni / co se vám nejvíce líbilo?'])"
   ]
  },
  {
   "cell_type": "code",
   "execution_count": null,
   "metadata": {},
   "outputs": [],
   "source": [
    "best_mess = messages_to_words_hist(df_form['Co vás letos nejvíc zklamalo / nelíbilo se vám?'])\n",
    "best_mess[:30].plot.bar(figsize=(30, 10), title='Co vás letos nejvíc zklamalo / nelíbilo se vám?')\n",
    "plt.xticks(rotation=30)"
   ]
  },
  {
   "cell_type": "code",
   "execution_count": null,
   "metadata": {},
   "outputs": [],
   "source": [
    "with pd.option_context('display.max_colwidth', 150):\n",
    "    display(df_form[df_form['Co vás letos nejvíc zklamalo / nelíbilo se vám?'].str.contains('přednášky', regex=False)]['Co vás letos nejvíc zklamalo / nelíbilo se vám?'])"
   ]
  },
  {
   "cell_type": "code",
   "execution_count": null,
   "metadata": {},
   "outputs": [],
   "source": [
    "best_mess = messages_to_words_hist(df_form['Co bychom podle vás měli do příštího roku zlepšit?'])\n",
    "best_mess[:30].plot.bar(figsize=(30, 10), title='Co bychom podle vás měli do příštího roku zlepšit?')\n",
    "plt.xticks(rotation=30)"
   ]
  },
  {
   "cell_type": "code",
   "execution_count": null,
   "metadata": {},
   "outputs": [],
   "source": [
    "best_mess = messages_to_words_hist(df_form['Co bychom podle vás měli do příštího roku zlepšit?'])\n",
    "best_mess[:15].plot.bar(figsize=(30, 10), title='Co bychom podle vás měli do příštího roku zlepšit?')\n",
    "plt.xticks(rotation=30)"
   ]
  },
  {
   "cell_type": "code",
   "execution_count": null,
   "metadata": {},
   "outputs": [],
   "source": [
    "best_mess = messages_to_words_hist(df_form['S čím jste měli problémy?'])\n",
    "best_mess[:15].plot.bar(figsize=(30, 10), title='S čím jste měli problémy?')\n",
    "plt.xticks(rotation=30)"
   ]
  },
  {
   "cell_type": "code",
   "execution_count": null,
   "metadata": {},
   "outputs": [],
   "source": [
    "best_mess = messages_to_words_hist(df_form['Uvítali byste nějaké další suvenýry?'])\n",
    "best_mess[:15].plot.bar(figsize=(30, 10), title='Uvítali byste nějaké další suvenýry?')\n",
    "plt.xticks(rotation=30)"
   ]
  },
  {
   "cell_type": "code",
   "execution_count": null,
   "metadata": {},
   "outputs": [],
   "source": [
    "with pd.option_context('display.max_colwidth', 150):\n",
    "    display(df_form[df_form['Uvítali byste nějaké další suvenýry?'] != '']['Uvítali byste nějaké další suvenýry?'])"
   ]
  },
  {
   "cell_type": "code",
   "execution_count": null,
   "metadata": {},
   "outputs": [],
   "source": [
    "best_mess = messages_to_words_hist(df_form['Hodnocení a poznámky ke grafice'])\n",
    "best_mess[:15].plot.bar(figsize=(30, 10), title='Hodnocení a poznámky ke grafice')\n",
    "plt.xticks(rotation=30)"
   ]
  },
  {
   "cell_type": "code",
   "execution_count": null,
   "metadata": {},
   "outputs": [],
   "source": [
    "[i for i in open_answers if 'Komentář' not in i]"
   ]
  },
  {
   "cell_type": "code",
   "execution_count": null,
   "metadata": {},
   "outputs": [],
   "source": [
    "best_mess = messages_to_words_hist(df_form['Jak jste byli spokojeni s moderátory soutěží a oficiálních pořadů?'])\n",
    "best_mess[:15].plot.bar(figsize=(30, 10), title='Jak jste byli spokojeni s moderátory soutěží a oficiálních pořadů?')\n",
    "plt.xticks(rotation=30)"
   ]
  },
  {
   "cell_type": "code",
   "execution_count": null,
   "metadata": {},
   "outputs": [],
   "source": [
    "with pd.option_context('display.max_colwidth', 150):\n",
    "    display(df_form[df_form['Jak jste byli spokojeni s moderátory soutěží a oficiálních pořadů?'] != '']['Jak jste byli spokojeni s moderátory soutěží a oficiálních pořadů?'].tolist())"
   ]
  },
  {
   "cell_type": "markdown",
   "metadata": {},
   "source": [
    "### analýza jednotlivých přednášek"
   ]
  },
  {
   "cell_type": "code",
   "execution_count": null,
   "metadata": {},
   "outputs": [],
   "source": [
    "#column = 'Jak si plnit sny pomocí anime'\n",
    "#column = 'Anime světy, ve kterých (ne)chcete žít'\n",
    "#column = 'Nový kreslíř na scéně: umělá inteligence!'\n",
    "#column = 'Sekiro, Nioh a ti další…'\n",
    "#column = 'Pen & Paper role-playing hry'\n",
    "#column = 'Rámen po česku'\n",
    "#column = 'BTS Army sraz'\n",
    "#column = 'K-pop – random dance CZHW'\n",
    "#column = 'Historická přesnost zbrojí v anime na vybraných příkladech'\n",
    "column = 'Letem jiným světem'"
   ]
  },
  {
   "cell_type": "code",
   "execution_count": null,
   "metadata": {},
   "outputs": [],
   "source": [
    "not_interesting_values = [np.nan, 'Nezúčastnil(a) jsem se', 'Nedostal(a) jsem se']\n",
    "\n",
    "df_filtered = df_form[~df_form[column + info_suffix].isin(not_interesting_values) | ~ df_form[column + fun_suffix].isin(not_interesting_values)]\n",
    "# Create dimensions\n",
    "age_dim = go.parcats.Dimension(\n",
    "    values=df_filtered['Věk'],\n",
    "    categoryorder='category ascending', label='Věk'\n",
    ")\n",
    "\n",
    "gender_dim = go.parcats.Dimension(\n",
    "    values=df_filtered['Pohlaví'],\n",
    "    categoryorder='category ascending', label='Pohlaví'\n",
    ")\n",
    "\n",
    "place_dim = go.parcats.Dimension(\n",
    "    values=df_filtered['Bydliště'],\n",
    "    categoryorder='category ascending', label='Bydliště'\n",
    ")\n",
    "\n",
    "num_visits_dim = go.parcats.Dimension(\n",
    "    values=df_filtered['Kromě letošního ročníku jsem na Animefestu byl(a)'],\n",
    "    categoryorder='category ascending', label='Kolikrát předtím na AF'\n",
    ")\n",
    "\n",
    "info_dim = go.parcats.Dimension(\n",
    "    values=df_filtered[column + info_suffix],\n",
    "    categoryorder='category ascending', label='Informativnost programu'\n",
    ")\n",
    "\n",
    "fun_dim = go.parcats.Dimension(\n",
    "    values=df_filtered[column + fun_suffix],\n",
    "    categoryorder='category ascending', label='Zábavnost programu'\n",
    ")\n",
    "\n",
    "# Create parcats trace\n",
    "color = df_filtered['Pohlaví'].replace({'muž': 0, 'žena': 0.3, 'jiné': 0.6, np.nan: 1})\n",
    "colorscale = [[0, 'steelblue'], [0.3, 'indianred'], [0.6, 'gray'], [1, 'dimgray']];\n",
    "\n",
    "fig = go.Figure(data = [go.Parcats(dimensions=[age_dim, num_visits_dim, gender_dim, info_dim, fun_dim],\n",
    "        line={'color': color, 'colorscale': colorscale},\n",
    "        hoveron='color', hoverinfo='count+probability',\n",
    "        labelfont={'size': 18, 'family': 'Times'},\n",
    "        tickfont={'size': 16, 'family': 'Times'},\n",
    "        arrangement='freeform')])\n",
    "\n",
    "fig.show()\n",
    "# todo: zkorelovat průměrnou spokojenost lidí s počtem AF návštěv"
   ]
  },
  {
   "cell_type": "code",
   "execution_count": null,
   "metadata": {},
   "outputs": [],
   "source": [
    "program_info_score.loc[column]"
   ]
  },
  {
   "cell_type": "code",
   "execution_count": null,
   "metadata": {},
   "outputs": [],
   "source": [
    "program_fun_score.loc[column]"
   ]
  },
  {
   "cell_type": "code",
   "execution_count": null,
   "metadata": {},
   "outputs": [],
   "source": [
    "df_form[df_form['Historická přesnost zbrojí v anime na vybraných příkladech [Dozvěděl(a) jsem se zajímavé informace]'] == 'špatné'].to_dict()"
   ]
  },
  {
   "cell_type": "code",
   "execution_count": null,
   "metadata": {},
   "outputs": [],
   "source": [
    "df_filtered[df_filtered['Komentář: '+column] != '']['Komentář: '+column].to_list()"
   ]
  },
  {
   "cell_type": "code",
   "execution_count": null,
   "metadata": {},
   "outputs": [],
   "source": [
    "# todo: udělat violin plot průměrných hodnocení pro jednotlivé lidi a různé demografie. A kouknout na množství překryvů mezi hodnoceným programem časově, zda to šlo stihnout"
   ]
  },
  {
   "cell_type": "code",
   "execution_count": null,
   "metadata": {},
   "outputs": [],
   "source": [
    "df_filtered[df_filtered['Komentář: '+column] != ''][['Komentář: '+column, column + info_suffix, column + fun_suffix, 'Pohlaví', 'Věk']]"
   ]
  },
  {
   "cell_type": "markdown",
   "metadata": {},
   "source": [
    "### loading data from api"
   ]
  },
  {
   "cell_type": "code",
   "execution_count": null,
   "metadata": {},
   "outputs": [],
   "source": [
    "schedule_entries = requests.get('https://www.animefest.cz/api/v1/schedule/entries/2/cs').json()\n",
    "df_schedule = pd.DataFrame(schedule_entries['entries'])\n",
    "df_schedule = df_schedule.set_index('scheduleEntryId')"
   ]
  },
  {
   "cell_type": "code",
   "execution_count": null,
   "metadata": {},
   "outputs": [],
   "source": [
    "df_schedule.head()"
   ]
  },
  {
   "cell_type": "code",
   "execution_count": null,
   "metadata": {},
   "outputs": [],
   "source": [
    "timetable_entries = requests.get('https://www.animefest.cz/api/v1/schedule/timetable/2/cs').json()\n",
    "df_timetable = pd.DataFrame(timetable_entries['timetable'])\n",
    "df_timetable = df_timetable.set_index('scheduleShowingId')\n",
    "df_timetable['from'] = pd.to_datetime(df_timetable['from'])\n",
    "df_timetable['to'] = pd.to_datetime(df_timetable['to'])"
   ]
  },
  {
   "cell_type": "code",
   "execution_count": null,
   "metadata": {},
   "outputs": [],
   "source": [
    "df_timetable.head()"
   ]
  },
  {
   "cell_type": "code",
   "execution_count": null,
   "metadata": {},
   "outputs": [],
   "source": [
    "locs_entries = requests.get('https://www.animefest.cz/api/v1/schedule/locations/2/cs').json()\n",
    "df_locs = pd.DataFrame(locs_entries['locations'])\n",
    "df_locs = df_locs.set_index('locationId')\n",
    "df_locs['capacity'] = 0"
   ]
  },
  {
   "cell_type": "code",
   "execution_count": null,
   "metadata": {},
   "outputs": [],
   "source": [
    "df_locs.loc[df_locs['name'] == 'Rotunda', 'capacity'] = 500\n",
    "df_locs.loc[df_locs['name'] == 'A2, hlavní pódium', 'capacity'] = 450\n",
    "df_locs.loc[df_locs['name'] == 'A2, studio stage', 'capacity'] = 330\n",
    "df_locs.loc[df_locs['name'] == 'Sál Morava', 'capacity'] = 280\n",
    "df_locs.loc[df_locs['name'] == 'Sál A (KC)', 'capacity'] = 300\n",
    "df_locs.loc[df_locs['name'] == 'Sál B (KC)', 'capacity'] = 170\n",
    "df_locs.loc[df_locs['name'] == 'A1, Stan bojovníků', 'capacity'] = 210  # papírově, ale nerozeznáme workshop od ukázky\n",
    "df_locs.loc[df_locs['name'] == 'A1, Módní koutek', 'capacity'] = 30\n",
    "df_locs.loc[df_locs['name'] == 'A1, Digital art', 'capacity'] = 20\n",
    "df_locs.loc[df_locs['name'] == 'A1, stream', 'capacity'] = 608\n",
    "df_locs.loc[df_locs['name'] == 'Mimo sály', 'capacity'] = 50  # asi, čeká se na upřesnění\n",
    "df_locs.loc[df_locs['name'] == 'A2, workshopy', 'capacity'] = 10\n"
   ]
  },
  {
   "cell_type": "code",
   "execution_count": null,
   "metadata": {},
   "outputs": [],
   "source": [
    "df_locs"
   ]
  },
  {
   "cell_type": "markdown",
   "metadata": {},
   "source": [
    "##### fixing non-aligned names"
   ]
  },
  {
   "cell_type": "code",
   "execution_count": null,
   "metadata": {},
   "outputs": [],
   "source": [
    "names_to_replace = {\n",
    "    'BJD od Ludvíka XIV. až po BTS ': 'BJD od Ludvíka XIV. až po BTS', \n",
    "    'Gejša: Tajemství za stěnami čajovny ': 'Gejša: Tajemství za stěnami čajovny', \n",
    "    'Jak sehnat (nejen) jaoi v totalitním státu ': 'Jak sehnat (nejen) jaoi v totalitním státu',\n",
    "    'Líčení pro trdla od trdla ': 'Líčení pro trdla od trdla', 'World Cosplay Panel': 'World cosplay panel',\n",
    "    'Výroba vlastního diáře/skicáku ': 'Výroba vlastního diáře/skicáku', \n",
    "    'I pád je posun vpřed – workshop': 'I pád je posun vpřed', 'Sebeobrana po japonsku – workshop': 'Sebeobrana po japonsku',\n",
    "    'Kendo – vystoupení/workshop': 'Kendo', 'Aikido Ikigai Dojo Brno – vystoupení/workshop': 'Aikido Ikigai Dojo Brno',\n",
    "    'Aikikai Aikido Brno – vystoupení/workshop': 'Aikikai Aikido Brno', 'Yoshinkan aikido – vystoupení/workshop': 'Yoshinkan aikido',\n",
    "    'Kensei Dojo Brno - vystoupení/workshop': 'Kensei Dojo Brno', 'Turnaj 1. kolo': 'Turnaj v šermu Aréna Alerie', \n",
    "    'Turnaj 2. kolo': 'Turnaj v šermu Aréna Alerie', 'Turnaj 3. kolo': 'Turnaj v šermu Aréna Alerie', 'Turnaj Finále': 'Turnaj v šermu Aréna Alerie',\n",
    "}\n",
    "\n",
    "for name_from, name_to in names_to_replace.items():\n",
    "    df_schedule.loc[df_schedule['name'] == name_from, 'name'] = name_to\n"
   ]
  },
  {
   "cell_type": "code",
   "execution_count": null,
   "metadata": {},
   "outputs": [],
   "source": [
    "for entry_name in df_schedule['name']:\n",
    "    if not (entry_name + fun_suffix in df_form and entry_name + info_suffix in df_form):\n",
    "        print(entry_name)\n",
    "    #assert entry['name'] + fun_suffix in df_form and entry['name'] + info_suffix in df_form, entry['name']"
   ]
  },
  {
   "cell_type": "code",
   "execution_count": null,
   "metadata": {},
   "outputs": [],
   "source": [
    "for column in program_columns:\n",
    "    if not column in df_schedule['name'].tolist():\n",
    "        print(column)\n",
    "    assert column + fun_suffix in df_form and column + info_suffix in df_form, column"
   ]
  },
  {
   "cell_type": "code",
   "execution_count": null,
   "metadata": {},
   "outputs": [],
   "source": [
    "df_timetable = df_timetable.drop(columns=['animefestYearId', 'language'])\n",
    "df_locs = df_locs.drop(columns=['animefestYearId', 'language']).rename(columns={'name': 'location_name'})\n",
    "df_timetable = df_timetable.join(df_schedule, on='scheduleEntryId').join(df_locs, on='locationId')\n",
    "df_timetable.head()"
   ]
  },
  {
   "cell_type": "code",
   "execution_count": null,
   "metadata": {},
   "outputs": [],
   "source": [
    "df_timetable[df_timetable['name'].isin(program_columns)].head()"
   ]
  },
  {
   "cell_type": "code",
   "execution_count": null,
   "metadata": {},
   "outputs": [],
   "source": [
    "df_timetable[df_timetable['name'].isin(program_columns)].shape, len(df_timetable[df_timetable['name'].isin(program_columns)]['scheduleEntryId'].unique())"
   ]
  },
  {
   "cell_type": "code",
   "execution_count": null,
   "metadata": {},
   "outputs": [],
   "source": [
    "df_timetable[df_timetable['name'].isin(program_columns) & (df_timetable['location_name'] == 'A1, Stan bojovníků')].head()"
   ]
  },
  {
   "cell_type": "code",
   "execution_count": null,
   "metadata": {},
   "outputs": [],
   "source": [
    "df_timetable[df_timetable['name'].isin(program_columns)]['location_name'].unique()"
   ]
  },
  {
   "cell_type": "code",
   "execution_count": null,
   "metadata": {},
   "outputs": [],
   "source": [
    "df_timetable[df_timetable['name'].isin(program_columns)].sort_values(by='scheduleEntryId').head()"
   ]
  },
  {
   "cell_type": "markdown",
   "metadata": {},
   "source": [
    "##### seeing which program is several times in the schedule"
   ]
  },
  {
   "cell_type": "code",
   "execution_count": null,
   "metadata": {},
   "outputs": [],
   "source": [
    "df_timetable[df_timetable['scheduleEntryId'].isin(df_timetable['scheduleEntryId'].value_counts()[df_timetable['scheduleEntryId'].value_counts() > 1].index)].head()"
   ]
  },
  {
   "cell_type": "markdown",
   "metadata": {},
   "source": [
    "### filtering, keeping only entries in feedback form"
   ]
  },
  {
   "cell_type": "code",
   "execution_count": null,
   "metadata": {},
   "outputs": [],
   "source": [
    "df_timetable = df_timetable[(df_timetable['name'] + info_suffix).isin(df_form.columns)]  # there is consistency check for both info and fun suffixes, using any of them arbitratily"
   ]
  },
  {
   "cell_type": "code",
   "execution_count": null,
   "metadata": {},
   "outputs": [],
   "source": [
    "df_timetable[df_timetable['scheduleEntryId'].isin(df_timetable['scheduleEntryId'].value_counts()[df_timetable['scheduleEntryId'].value_counts() > 1].index)]"
   ]
  },
  {
   "cell_type": "code",
   "execution_count": null,
   "metadata": {},
   "outputs": [],
   "source": [
    "pd.Series(df_timetable[df_timetable['scheduleEntryId'].isin(df_timetable['scheduleEntryId'].value_counts()[df_timetable['scheduleEntryId'].value_counts() > 1].index)]['name'].unique())\n"
   ]
  },
  {
   "cell_type": "code",
   "execution_count": null,
   "metadata": {
    "pycharm": {
     "name": "#%%\n"
    }
   },
   "outputs": [],
   "source": []
  }
 ],
 "metadata": {
  "kernelspec": {
   "display_name": "Python 3",
   "language": "python",
   "name": "python3"
  },
  "language_info": {
   "codemirror_mode": {
    "name": "ipython",
    "version": 3
   },
   "file_extension": ".py",
   "mimetype": "text/x-python",
   "name": "python",
   "nbconvert_exporter": "python",
   "pygments_lexer": "ipython3",
   "version": "3.6.8"
  },
  "pycharm": {
   "stem_cell": {
    "cell_type": "raw",
    "metadata": {
     "collapsed": false
    },
    "source": []
   }
  },
  "varInspector": {
   "cols": {
    "lenName": 16,
    "lenType": 16,
    "lenVar": 40
   },
   "kernels_config": {
    "python": {
     "delete_cmd_postfix": "",
     "delete_cmd_prefix": "del ",
     "library": "var_list.py",
     "varRefreshCmd": "print(var_dic_list())"
    },
    "r": {
     "delete_cmd_postfix": ") ",
     "delete_cmd_prefix": "rm(",
     "library": "var_list.r",
     "varRefreshCmd": "cat(var_dic_list()) "
    }
   },
   "position": {
    "height": "657px",
    "left": "1788px",
    "right": "20px",
    "top": "580px",
    "width": "707px"
   },
   "types_to_exclude": [
    "module",
    "function",
    "builtin_function_or_method",
    "instance",
    "_Feature"
   ],
   "window_display": false
  }
 },
 "nbformat": 4,
 "nbformat_minor": 2
}
