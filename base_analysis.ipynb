{
 "cells": [
  {
   "cell_type": "code",
   "execution_count": null,
   "metadata": {
    "pycharm": {
     "name": "#%%\n"
    }
   },
   "outputs": [],
   "source": [
    "import numpy as np\n",
    "import pandas as pd\n",
    "import matplotlib.pyplot as plt\n",
    "from functools import partial\n",
    "import seaborn as sns\n",
    "import requests\n",
    "from data_loading import *\n",
    "import plotly.graph_objects as go\n"
   ]
  },
  {
   "cell_type": "code",
   "execution_count": null,
   "metadata": {
    "pycharm": {
     "name": "#%%\n"
    }
   },
   "outputs": [],
   "source": [
    "# use this to keep the cells wider, very nice on wide screens, set the percentage as you like it\n",
    "from IPython.core.display import display, HTML\n",
    "#display(HTML(\"<style>.container { width:80% !important; }</style>\"))\n",
    "display(HTML(\"<style>.container { width:100% !important; }</style>\"))"
   ]
  },
  {
   "cell_type": "code",
   "execution_count": null,
   "metadata": {},
   "outputs": [],
   "source": [
    "%load_ext autoreload\n",
    "%autoreload 2"
   ]
  },
  {
   "cell_type": "code",
   "execution_count": null,
   "metadata": {
    "pycharm": {
     "name": "#%%\n"
    }
   },
   "outputs": [],
   "source": [
    "conf = {\n",
    "    'font.size': 14.0,\n",
    "    'axes.grid': True,\n",
    "    'axes.axisbelow': True,\n",
    "    'axes.edgecolor': 'black',\n",
    "#    'axes.facecolor': '#E5E5EF',\n",
    "#    'axes.facecolor': '#E0E0EF',\n",
    "    'axes.labelcolor': 'black',\n",
    "    'axes.titlesize': 15.6,\n",
    "    'axes.labelsize': 'large',    \n",
    "    'figure.figsize': (12, 7),\n",
    "    'figure.titlesize': 'x-large',\n",
    "    'grid.linewidth': 1.3,\n",
    "    'xtick.labelsize': 'large',\n",
    "    'ytick.labelsize': 'large',\n",
    "    'xtick.color': 'black',\n",
    "    'ytick.color': 'black',\n",
    "    'legend.fontsize': 'large',\n",
    "    'figure.figsize': (12., 8.)\n",
    "}\n",
    "\n",
    "plt.rcParams.update(conf)"
   ]
  },
  {
   "cell_type": "markdown",
   "metadata": {},
   "source": [
    "### base loading and visualizing"
   ]
  },
  {
   "cell_type": "code",
   "execution_count": null,
   "metadata": {
    "pycharm": {
     "name": "#%%\n"
    }
   },
   "outputs": [],
   "source": [
    "df_form, columns_series, program_columns_ratings, program_columns, form_ratings, form_attends, open_answers = load_form_data()"
   ]
  },
  {
   "cell_type": "code",
   "execution_count": null,
   "metadata": {
    "pycharm": {
     "name": "#%%\n"
    }
   },
   "outputs": [],
   "source": [
    "df_app = load_app_data()"
   ]
  },
  {
   "cell_type": "code",
   "execution_count": null,
   "metadata": {},
   "outputs": [],
   "source": [
    "df_timetable = load_api_info(df_form.columns)"
   ]
  },
  {
   "cell_type": "code",
   "execution_count": null,
   "metadata": {
    "pycharm": {
     "name": "#%%\n"
    }
   },
   "outputs": [],
   "source": [
    "app_ratings = prepare_app_ratings(df_app)\n",
    "app_ratings"
   ]
  },
  {
   "cell_type": "code",
   "execution_count": null,
   "metadata": {
    "pycharm": {
     "name": "#%%\n"
    }
   },
   "outputs": [],
   "source": [
    "df_form.head()"
   ]
  },
  {
   "cell_type": "code",
   "execution_count": null,
   "metadata": {
    "pycharm": {
     "name": "#%%\n"
    }
   },
   "outputs": [],
   "source": [
    "program_columns_ratings.head()"
   ]
  },
  {
   "cell_type": "code",
   "execution_count": null,
   "metadata": {
    "pycharm": {
     "name": "#%%\n"
    }
   },
   "outputs": [],
   "source": [
    "program_columns.head()"
   ]
  },
  {
   "cell_type": "code",
   "execution_count": null,
   "metadata": {},
   "outputs": [],
   "source": [
    "df_timetable.head()"
   ]
  },
  {
   "cell_type": "markdown",
   "metadata": {},
   "source": [
    "### filtering, keeping only entries in feedback form"
   ]
  },
  {
   "cell_type": "code",
   "execution_count": null,
   "metadata": {},
   "outputs": [],
   "source": [
    "form_attends.head()"
   ]
  },
  {
   "cell_type": "code",
   "execution_count": null,
   "metadata": {
    "pycharm": {
     "name": "#%%\n"
    }
   },
   "outputs": [],
   "source": [
    "form_ratings"
   ]
  },
  {
   "cell_type": "markdown",
   "metadata": {},
   "source": [
    "### starting analyzing apps"
   ]
  },
  {
   "cell_type": "code",
   "execution_count": null,
   "metadata": {
    "pycharm": {
     "name": "#%%\n"
    }
   },
   "outputs": [],
   "source": [
    "df_app.head()"
   ]
  },
  {
   "cell_type": "code",
   "execution_count": null,
   "metadata": {
    "pycharm": {
     "name": "#%%\n"
    }
   },
   "outputs": [],
   "source": [
    "df_app.describe()"
   ]
  },
  {
   "cell_type": "code",
   "execution_count": null,
   "metadata": {
    "pycharm": {
     "name": "#%%\n"
    }
   },
   "outputs": [],
   "source": [
    "df_app['uživatel'].value_counts().head()"
   ]
  },
  {
   "cell_type": "markdown",
   "metadata": {},
   "source": [
    "#### preparing app data format for merge with form data"
   ]
  },
  {
   "cell_type": "markdown",
   "metadata": {},
   "source": [
    "### base EDA"
   ]
  },
  {
   "cell_type": "code",
   "execution_count": null,
   "metadata": {
    "pycharm": {
     "name": "#%%\n"
    }
   },
   "outputs": [],
   "source": [
    "df_form.head()"
   ]
  },
  {
   "cell_type": "code",
   "execution_count": null,
   "metadata": {
    "pycharm": {
     "name": "#%%\n"
    }
   },
   "outputs": [],
   "source": [
    "df_form.describe()"
   ]
  },
  {
   "cell_type": "code",
   "execution_count": null,
   "metadata": {
    "pycharm": {
     "name": "#%%\n"
    }
   },
   "outputs": [],
   "source": [
    "[(i, len(df_form[i].unique())) for i in df_form.columns if len(df_form[i].unique()) < 10]"
   ]
  },
  {
   "cell_type": "code",
   "execution_count": null,
   "metadata": {
    "pycharm": {
     "name": "#%%\n"
    }
   },
   "outputs": [],
   "source": [
    "df_form.columns.map(lambda i: len(df_form[i].unique())).to_series().value_counts().sort_index().plot.bar(figsize=(25, 10))"
   ]
  },
  {
   "cell_type": "code",
   "execution_count": null,
   "metadata": {
    "pycharm": {
     "name": "#%%\n"
    }
   },
   "outputs": [],
   "source": [
    "df_form.columns.map(lambda i: sum(df_form[i].notnull())).to_series().value_counts().sort_index().plot.bar(figsize=(25, 10))"
   ]
  },
  {
   "cell_type": "code",
   "execution_count": null,
   "metadata": {
    "pycharm": {
     "name": "#%%\n"
    }
   },
   "outputs": [],
   "source": [
    "attend_columns = [i for i in df_form.columns if 'Nezúčastnil(a) jsem se' in df_form[i].values]"
   ]
  },
  {
   "cell_type": "code",
   "execution_count": null,
   "metadata": {
    "pycharm": {
     "name": "#%%\n"
    }
   },
   "outputs": [],
   "source": [
    "attend_columns[:10]"
   ]
  },
  {
   "cell_type": "code",
   "execution_count": null,
   "metadata": {
    "pycharm": {
     "name": "#%%\n"
    }
   },
   "outputs": [],
   "source": [
    "len(attend_columns)"
   ]
  },
  {
   "cell_type": "code",
   "execution_count": null,
   "metadata": {
    "pycharm": {
     "name": "#%%\n"
    }
   },
   "outputs": [],
   "source": [
    "len([i for i in df_form.columns if len(df_form[i].unique()) <= 8])"
   ]
  },
  {
   "cell_type": "code",
   "execution_count": null,
   "metadata": {
    "pycharm": {
     "name": "#%%\n"
    }
   },
   "outputs": [],
   "source": [
    "len([i for i in df_form.columns if len(df_form[i].unique()) < 10])"
   ]
  },
  {
   "cell_type": "code",
   "execution_count": null,
   "metadata": {
    "pycharm": {
     "name": "#%%\n"
    }
   },
   "outputs": [],
   "source": [
    "len([i for i in df_form.columns if len(df_form[i].unique()) < 20])"
   ]
  },
  {
   "cell_type": "code",
   "execution_count": null,
   "metadata": {
    "pycharm": {
     "name": "#%%\n"
    }
   },
   "outputs": [],
   "source": [
    "len([i for i in df_form.columns if len(df_form[i].unique()) <= 8 and sum(df_form[i].notnull()) > 100])"
   ]
  },
  {
   "cell_type": "code",
   "execution_count": null,
   "metadata": {
    "pycharm": {
     "name": "#%%\n"
    }
   },
   "outputs": [],
   "source": [
    "all_attends = df_form[attend_columns].stack()\n",
    "all_attends[~all_attends.isna()].value_counts().plot.pie()"
   ]
  },
  {
   "cell_type": "code",
   "execution_count": null,
   "metadata": {
    "pycharm": {
     "name": "#%%\n"
    }
   },
   "outputs": [],
   "source": [
    "all_attends[~all_attends.isna()].value_counts().plot.barh()"
   ]
  },
  {
   "cell_type": "code",
   "execution_count": null,
   "metadata": {
    "pycharm": {
     "name": "#%%\n"
    }
   },
   "outputs": [],
   "source": [
    "all_attends[(~all_attends.isna()) & ('Nezúčastnil(a) jsem se' != all_attends)].value_counts().plot.barh()"
   ]
  },
  {
   "cell_type": "code",
   "execution_count": null,
   "metadata": {
    "pycharm": {
     "name": "#%%\n"
    }
   },
   "outputs": [],
   "source": [
    "df_app.head()"
   ]
  },
  {
   "cell_type": "code",
   "execution_count": null,
   "metadata": {
    "pycharm": {
     "name": "#%%\n"
    }
   },
   "outputs": [],
   "source": [
    "df_app.describe()"
   ]
  },
  {
   "cell_type": "code",
   "execution_count": null,
   "metadata": {
    "pycharm": {
     "name": "#%%\n"
    }
   },
   "outputs": [],
   "source": [
    "def abs_vals(pct, allvals):\n",
    "    absolute = int(pct/100.*np.sum(allvals))\n",
    "    return '{:d}'.format(absolute)\n"
   ]
  },
  {
   "cell_type": "code",
   "execution_count": null,
   "metadata": {
    "pycharm": {
     "name": "#%%\n"
    }
   },
   "outputs": [],
   "source": [
    "feedback_geo = df_form['Bydliště'].value_counts()\n",
    "feedback_geo.plot.pie(autopct=partial(abs_vals, allvals=feedback_geo))"
   ]
  },
  {
   "cell_type": "code",
   "execution_count": null,
   "metadata": {
    "pycharm": {
     "name": "#%%\n"
    }
   },
   "outputs": [],
   "source": [
    "#for i in [i for i in df_form.columns if len(df_form[i].unique()) <= 8 and sum(df_form[i].notnull()) > 100]:\n",
    "#    plt.figure()\n",
    "#    feedback_i = df_form[i].value_counts()\n",
    "#    feedback_i.plot.pie(autopct=partial(abs_vals, allvals=feedback_i))\n",
    "#    plt.show()\n"
   ]
  },
  {
   "cell_type": "code",
   "execution_count": null,
   "metadata": {
    "pycharm": {
     "name": "#%%\n"
    }
   },
   "outputs": [],
   "source": [
    "[i for i in df_form.columns if len(df_form[i].unique()) <= 8 and '[Dozvěděl(a) jsem se zajímavé informace]' not in i and '[Bavil(a) jsem se]' not in i and 'Komentář:' not in i]"
   ]
  },
  {
   "cell_type": "code",
   "execution_count": null,
   "metadata": {
    "pycharm": {
     "name": "#%%\n"
    }
   },
   "outputs": [],
   "source": [
    "cols_to_plot = [i for i in df_form.columns if len(df_form[i].unique()) <= 8 and '[Dozvěděl(a) jsem se zajímavé informace]' not in i and '[Bavil(a) jsem se]' not in i and 'Komentář:' not in i]\n",
    "cols = 3\n",
    "fig, axes = plt.subplots(int(np.ceil(len(cols_to_plot) / cols)), cols, figsize=(35, 120))\n",
    "\n",
    "for i, col in enumerate(cols_to_plot):\n",
    "    ax = axes[i // cols, i % cols]\n",
    "    #plt.figure()\n",
    "    feedback_i = df_form[col].value_counts()\n",
    "    feedback_i.plot.pie(autopct=partial(abs_vals, allvals=feedback_i), ax=ax, y=None)\n",
    "plt.show()"
   ]
  },
  {
   "cell_type": "code",
   "execution_count": null,
   "metadata": {
    "pycharm": {
     "name": "#%%\n"
    }
   },
   "outputs": [],
   "source": [
    "feedback_times = df_form['Timestamp'].value_counts(sort=False).copy().reindex().resample('1D', how='count')\n",
    "feedback_times.plot.bar()\n",
    "plt.title('Počet vyplnění za den, vše červen')\n",
    "#plt.gca().set_xticklabels([dt.strftime(\"%#d. %#m.\") for dt in feedback_times.index])\n",
    "plt.gca().set_xticklabels([dt.strftime(\"%#d.\") for dt in feedback_times.index])\n",
    "plt.xticks(rotation=0)\n",
    "plt.show()"
   ]
  },
  {
   "cell_type": "markdown",
   "metadata": {},
   "source": [
    "#### merging with app data"
   ]
  },
  {
   "cell_type": "code",
   "execution_count": null,
   "metadata": {
    "pycharm": {
     "name": "#%%\n"
    }
   },
   "outputs": [],
   "source": [
    "form_ratings.columns.unique()"
   ]
  },
  {
   "cell_type": "code",
   "execution_count": null,
   "metadata": {
    "pycharm": {
     "name": "#%%\n"
    }
   },
   "outputs": [],
   "source": [
    "form_attends.T.columns.unique()"
   ]
  },
  {
   "cell_type": "code",
   "execution_count": null,
   "metadata": {
    "pycharm": {
     "name": "#%%\n"
    }
   },
   "outputs": [],
   "source": [
    "set(form_ratings.columns) - set(form_attends.T.columns)  # these will be dropped"
   ]
  },
  {
   "cell_type": "code",
   "execution_count": null,
   "metadata": {},
   "outputs": [],
   "source": [
    "set(form_attends.T.columns) - set(form_ratings.columns)"
   ]
  },
  {
   "cell_type": "markdown",
   "metadata": {},
   "source": [
    "### differences between app and form rating fields"
   ]
  },
  {
   "cell_type": "code",
   "execution_count": null,
   "metadata": {},
   "outputs": [],
   "source": [
    "set(form_ratings.columns) - set(app_ratings.columns)"
   ]
  },
  {
   "cell_type": "code",
   "execution_count": null,
   "metadata": {},
   "outputs": [],
   "source": [
    "set(app_ratings.columns) - set(form_ratings.columns)"
   ]
  },
  {
   "cell_type": "code",
   "execution_count": null,
   "metadata": {
    "pycharm": {
     "name": "#%%\n"
    }
   },
   "outputs": [],
   "source": [
    "app_ratings.head()"
   ]
  },
  {
   "cell_type": "code",
   "execution_count": null,
   "metadata": {
    "pycharm": {
     "name": "#%%\n"
    }
   },
   "outputs": [],
   "source": [
    "program_ratings, program_attends, program_columns = merge_ratings(form_ratings, app_ratings)"
   ]
  },
  {
   "cell_type": "code",
   "execution_count": null,
   "metadata": {},
   "outputs": [],
   "source": [
    "form_ratings"
   ]
  },
  {
   "cell_type": "code",
   "execution_count": null,
   "metadata": {},
   "outputs": [],
   "source": [
    "program_ratings"
   ]
  },
  {
   "cell_type": "code",
   "execution_count": null,
   "metadata": {},
   "outputs": [],
   "source": [
    "program_attends.T"
   ]
  },
  {
   "cell_type": "code",
   "execution_count": null,
   "metadata": {
    "pycharm": {
     "name": "#%%\n"
    }
   },
   "outputs": [],
   "source": [
    "def remove_suffix(string):\n",
    "    return string.replace(info_suffix, '').replace(fun_suffix, '')\n",
    "form_ratings.groupby(form_ratings.columns.map(remove_suffix), axis=1).max()"
   ]
  },
  {
   "cell_type": "code",
   "execution_count": null,
   "metadata": {},
   "outputs": [],
   "source": [
    "program_attends.T.groupby(program_ratings.columns.map(remove_suffix), axis=1).max()"
   ]
  },
  {
   "cell_type": "code",
   "execution_count": null,
   "metadata": {},
   "outputs": [],
   "source": [
    "program_attends.head()"
   ]
  },
  {
   "cell_type": "code",
   "execution_count": null,
   "metadata": {
    "pycharm": {
     "name": "#%%\n"
    }
   },
   "outputs": [],
   "source": [
    "type_to_color = {'přednášky': 'g', 'workshopy': 'purple', 'soutěže': 'yellow', 'doplňkový program': 'b', 'promítání': 'r', 'divadlo': 'pink'}\n",
    "def patch_label_coords(p):\n",
    "    offset = 0\n",
    "    if p.get_width() < 0:\n",
    "        offset = - 0.03\n",
    "    return p.get_x() + p.get_width() + offset, p.get_y() - 0.25"
   ]
  },
  {
   "cell_type": "code",
   "execution_count": null,
   "metadata": {
    "pycharm": {
     "name": "#%%\n"
    }
   },
   "outputs": [],
   "source": [
    "program_attends.T.groupby(program_ratings.columns.map(remove_suffix), axis=1).max().T.sort_values('Zúčastnil(a) jsem se', ascending=True).plot.barh(stacked=True, figsize=(30, 50))"
   ]
  },
  {
   "cell_type": "markdown",
   "metadata": {},
   "source": [
    "#### splitting program to categories"
   ]
  },
  {
   "cell_type": "code",
   "execution_count": null,
   "metadata": {
    "pycharm": {
     "name": "#%%\n"
    }
   },
   "outputs": [],
   "source": [
    "col_to_category"
   ]
  },
  {
   "cell_type": "code",
   "execution_count": null,
   "metadata": {
    "pycharm": {
     "name": "#%%\n"
    }
   },
   "outputs": [],
   "source": [
    "program_attendance = program_attends.T.groupby(program_ratings.columns.map(remove_suffix), axis=1).max().T['Zúčastnil(a) jsem se'].to_frame()\n",
    "program_attendance['type'] = program_attendance.index.to_series().map(col_to_category)\n",
    "\n",
    "sorted_attendance = program_attendance.sort_values(by='Zúčastnil(a) jsem se', ascending=True)\n",
    "sorted_attendance['Zúčastnil(a) jsem se'].plot.barh(stacked=True, figsize=(30, 50), color=sorted_attendance['type'].map(type_to_color))\n",
    "for p in plt.gca().patches:\n",
    "    plt.gca().annotate(\"%.0f\" % p.get_width(), patch_label_coords(p), xytext=(5, 10), textcoords='offset points')"
   ]
  },
  {
   "cell_type": "code",
   "execution_count": null,
   "metadata": {
    "pycharm": {
     "name": "#%%\n"
    }
   },
   "outputs": [],
   "source": [
    "program_attendance['type'] = program_attendance.index.to_series().map(col_to_category)\n",
    "program_attendance.head()"
   ]
  },
  {
   "cell_type": "code",
   "execution_count": null,
   "metadata": {
    "pycharm": {
     "name": "#%%\n"
    }
   },
   "outputs": [],
   "source": [
    "program_attendance.groupby('type')['Zúčastnil(a) jsem se'].sum().sort_values(ascending=True).plot.barh()"
   ]
  },
  {
   "cell_type": "code",
   "execution_count": null,
   "metadata": {
    "pycharm": {
     "name": "#%%\n"
    }
   },
   "outputs": [],
   "source": [
    "program_attendance.groupby('type')['Zúčastnil(a) jsem se'].mean().sort_values(ascending=True).plot.barh()"
   ]
  },
  {
   "cell_type": "code",
   "execution_count": null,
   "metadata": {
    "pycharm": {
     "name": "#%%\n"
    }
   },
   "outputs": [],
   "source": [
    "program_attendance.groupby('type')['Zúčastnil(a) jsem se'].count().sort_values(ascending=True).plot.barh()"
   ]
  },
  {
   "cell_type": "code",
   "execution_count": null,
   "metadata": {
    "pycharm": {
     "name": "#%%\n"
    }
   },
   "outputs": [],
   "source": [
    "sns.violinplot(x='type', y='Zúčastnil(a) jsem se', data=program_attendance, inner='stick', bw=.3)\n",
    "plt.title('návštěvnost')\n",
    "plt.xticks(rotation=15)"
   ]
  },
  {
   "cell_type": "code",
   "execution_count": null,
   "metadata": {
    "pycharm": {
     "name": "#%%\n"
    }
   },
   "outputs": [],
   "source": [
    "rating_to_num = {'špatné': -1, 'v pohodě': 0, 'dobré': 1}\n",
    "fill_to_num = {'chci hodnotit stručně': -1, 'chci hodnotit podrobně': 1}\n",
    "app_to_num = {'Ne': -1, 'Ne, nevědel sem o ní': -1, 'Ne, z jiného důvodu': -1, 'Ne, nemám podporované zařízení': -1, 'Ne, nedokázal jsem ji spustit': -1, 'Ne, nezajímá mě': -1, np.nan: 0, 'Ano': 1}\n",
    "bool_to_num = {'Ne': -1, np.nan: 0, 'Ano': 1}\n",
    "age_to_num = {'13-15': 1, '16-18': 2, '19-25': 3, '26 a více': 4}\n",
    "    \n",
    "#sns.pairplot(df_form[cols_to_plot], hue='Pohlaví')\n",
    "plt.figure(figsize=(20, 20))\n",
    "g = sns.pairplot(df_form[['Věk', 'Pohlaví', 'Jak podrobně chcete hodnotit?', 'Připadá vám AF téma pro zážitek na conu důležité?', 'Používali jste Animefest aplikaci?']].replace({\n",
    "    'Věk': age_to_num, 'Jak podrobně chcete hodnotit?': fill_to_num, 'Připadá vám AF téma pro zážitek na conu důležité?': bool_to_num, 'Používali jste Animefest aplikaci?': app_to_num\n",
    "}), hue='Pohlaví')\n",
    "[plt.setp(ax.xaxis.get_label(), rotation=15) for ax in g.axes.flat]\n",
    "[plt.setp(ax.yaxis.get_label(), rotation=75) for ax in g.axes.flat]\n"
   ]
  },
  {
   "cell_type": "code",
   "execution_count": null,
   "metadata": {},
   "outputs": [],
   "source": [
    "program_fun_score, program_info_score = calc_scores(program_ratings, program_columns)"
   ]
  },
  {
   "cell_type": "code",
   "execution_count": null,
   "metadata": {},
   "outputs": [],
   "source": [
    "program_ratings.head()"
   ]
  },
  {
   "cell_type": "code",
   "execution_count": null,
   "metadata": {
    "pycharm": {
     "name": "#%%\n"
    }
   },
   "outputs": [],
   "source": [
    "program_fun_score.head()"
   ]
  },
  {
   "cell_type": "code",
   "execution_count": null,
   "metadata": {
    "pycharm": {
     "name": "#%%\n"
    }
   },
   "outputs": [],
   "source": [
    "program_info_score.head()"
   ]
  },
  {
   "cell_type": "code",
   "execution_count": null,
   "metadata": {
    "pycharm": {
     "name": "#%%\n"
    }
   },
   "outputs": [],
   "source": [
    "sorted_score = program_fun_score.sort_values(by='score', ascending=True)\n",
    "sorted_score['score'].plot.barh(figsize=(30, 50), color=sorted_score['type'].map(type_to_color))\n",
    "for p in plt.gca().patches:\n",
    "    plt.gca().annotate(\"%.2f\" % p.get_width(), patch_label_coords(p), xytext=(5, 10), textcoords='offset points')"
   ]
  },
  {
   "cell_type": "code",
   "execution_count": null,
   "metadata": {
    "pycharm": {
     "name": "#%%\n"
    }
   },
   "outputs": [],
   "source": [
    "sorted_score = program_info_score.sort_values(by='score', ascending=True)\n",
    "sorted_score['score'].plot.barh(figsize=(30, 50), color=sorted_score['type'].map(type_to_color))\n",
    "for p in plt.gca().patches:\n",
    "    plt.gca().annotate(\"%.2f\" % p.get_width(), patch_label_coords(p), xytext=(5, 10), textcoords='offset points')"
   ]
  },
  {
   "cell_type": "code",
   "execution_count": null,
   "metadata": {
    "pycharm": {
     "name": "#%%\n"
    }
   },
   "outputs": [],
   "source": [
    "sns.violinplot(x='type', y='score', data=program_fun_score, inner='stick', bw=.3)\n",
    "plt.title('zábavnost')\n",
    "plt.xticks(rotation=15)"
   ]
  },
  {
   "cell_type": "code",
   "execution_count": null,
   "metadata": {
    "pycharm": {
     "name": "#%%\n"
    }
   },
   "outputs": [],
   "source": [
    "sns.violinplot(x='type', y='score', data=program_info_score, inner='stick', bw=.3)\n",
    "plt.title('informovanost')\n",
    "plt.xticks(rotation=15)"
   ]
  },
  {
   "cell_type": "code",
   "execution_count": null,
   "metadata": {
    "pycharm": {
     "name": "#%%\n"
    }
   },
   "outputs": [],
   "source": [
    "### can't see number of them, need parallel sets"
   ]
  },
  {
   "cell_type": "code",
   "execution_count": null,
   "metadata": {
    "pycharm": {
     "name": "#%%\n"
    }
   },
   "outputs": [],
   "source": [
    "{i: df_form[i].unique() for i in cols_to_plot}"
   ]
  },
  {
   "cell_type": "code",
   "execution_count": null,
   "metadata": {
    "pycharm": {
     "name": "#%%\n"
    }
   },
   "outputs": [],
   "source": [
    "df_form['af_aplikace_bool'] = df_form['Používali jste Animefest aplikaci?'].replace({'Ne, nedokázal jsem ji spustit': 'Ne', 'Ne, nemám podporované zařízení': 'Ne', 'Ne, nevědel sem o ní': 'Ne', 'Ne, nezajímá mě': 'Ne', 'Ne, z jiného důvodu': 'Ne'})\n",
    "\n",
    "# Create dimensions\n",
    "age_dim = go.parcats.Dimension(\n",
    "    values=df_form['Věk'],\n",
    "    categoryorder='category ascending', label='Věk'\n",
    ")\n",
    "\n",
    "gender_dim = go.parcats.Dimension(\n",
    "    values=df_form['Pohlaví'],\n",
    "    categoryorder='category ascending', label='Pohlaví'\n",
    ")\n",
    "\n",
    "place_dim = go.parcats.Dimension(\n",
    "    values=df_form['Bydliště'],\n",
    "    categoryorder='category ascending', label='Bydliště'\n",
    ")\n",
    "\n",
    "detail_dim = go.parcats.Dimension(\n",
    "    values=df_form['Jak podrobně chcete hodnotit?'],\n",
    "    categoryorder='category ascending', label='Podrobné hodnocení'\n",
    ")\n",
    "\n",
    "app_detailed_dim = go.parcats.Dimension(\n",
    "    values=df_form['Používali jste Animefest aplikaci?'],\n",
    "    categoryorder='category ascending', label='Používání AF aplikace'\n",
    ")\n",
    "\n",
    "app_dim = go.parcats.Dimension(\n",
    "    values=df_form['Používali jste Animefest aplikaci?'].replace({'Ne, nedokázal jsem ji spustit': 'Ne', 'Ne, nemám podporované zařízení': 'Ne', 'Ne, nevědel sem o ní': 'Ne', 'Ne, nezajímá mě': 'Ne', 'Ne, z jiného důvodu': 'Ne'}),\n",
    "    categoryorder='category ascending', label='Používání AF aplikace'\n",
    ")\n",
    "\n",
    "\n",
    "souvenirs_price_dim = go.parcats.Dimension(\n",
    "    values=df_form['Cena AF suvenýrů je přiměřená?'],\n",
    "    categoryorder='category ascending', label='Cena suvenýrů'\n",
    ")\n",
    "\n",
    "more_souvenirs_dim = go.parcats.Dimension(\n",
    "    values=df_form['Uvítali byste nějaké další suvenýry?'],\n",
    "    categoryorder='category ascending', label='Více suvenýrů?'\n",
    ")\n",
    "\n",
    "# not filled in detailed version\n",
    "factions_dim = go.parcats.Dimension(\n",
    "    values=df_form['Letošní téma a frakce'],\n",
    "    categoryorder='category ascending', label='téma a frakce'\n",
    ")\n",
    "\n",
    "video_dim = go.parcats.Dimension(\n",
    "    values=df_form['Úvodní/závěrečné video'],\n",
    "    categoryorder='category ascending', label='Úvodní/závěrečné video'\n",
    ")\n",
    "\n",
    "points_dim = go.parcats.Dimension(\n",
    "    values=df_form['Sbírání bodů'],\n",
    "    categoryorder='category ascending', label='Sbírání bodů'\n",
    ")\n",
    "\n",
    "theme_dim = go.parcats.Dimension(\n",
    "    values=df_form['Připadá vám AF téma pro zážitek na conu důležité?'],\n",
    "    categoryorder='category ascending', label='Je AF téma důležité?'\n",
    ")\n",
    "\n",
    "\n",
    "# Create parcats trace\n",
    "#color = df_form['Pohlaví'].replace({'muž': 0, 'žena': 0.3, 'jiné': 0.6, np.nan: 1})\n",
    "color = df_form['Úvodní/závěrečné video'].replace({'dobré': 0, 'v pohodě': 0.2, 'špatné': 0.4, 'Nevím o co jde': 0.6, np.nan: 1})\n",
    "#colorscale = [[0, 'steelblue'], [0.3, 'indianred'], [0.6, 'gray'], [1, 'dimgray']];\n",
    "\n",
    "fig = go.Figure(data = [go.Parcats(dimensions=\n",
    "#                                  [age_dim, gender_dim, app_dim, souvenirs_price_dim, video_dim, theme_dim],\n",
    "                                   [age_dim, gender_dim, video_dim, theme_dim],\n",
    "#        line={'color': color, 'colorscale': colorscale},\n",
    "        line={'color': color},\n",
    "        hoveron='color', hoverinfo='count+probability',\n",
    "        labelfont={'size': 18, 'family': 'Times'},\n",
    "        tickfont={'size': 16, 'family': 'Times'},\n",
    "        arrangement='freeform')])\n",
    "\n",
    "fig.show()"
   ]
  },
  {
   "cell_type": "code",
   "execution_count": null,
   "metadata": {
    "pycharm": {
     "name": "#%%\n"
    }
   },
   "outputs": [],
   "source": [
    "df = df_form[['Věk', 'Pohlaví', 'Kromě letošního ročníku jsem na Animefestu byl(a)', 'Připadá vám AF téma pro zážitek na conu důležité?', 'Úvodní/závěrečné video']].dropna()\n",
    "df['Kromě letošního ročníku jsem na Animefestu byl(a)'] = df['Kromě letošního ročníku jsem na Animefestu byl(a)'].replace({'6x': '6x+', '7x': '6x+', '8x': '6x+', '9x': '6x+', \n",
    "                                                                                                                           '10x': '6x+', '11x': '6x+', '12x': '6x+', '13x': '6x+', '14x': '6x+'})\n",
    "# Create dimensions\n",
    "age_dim = go.parcats.Dimension(\n",
    "    values=df['Věk'],\n",
    "    categoryorder='category ascending', label='Věk'\n",
    ")\n",
    "\n",
    "gender_dim = go.parcats.Dimension(\n",
    "    values=df['Pohlaví'],\n",
    "    categoryorder='category ascending', label='Pohlaví'\n",
    ")\n",
    "\n",
    "num_visits_dim = go.parcats.Dimension(\n",
    "    values=df['Kromě letošního ročníku jsem na Animefestu byl(a)'],\n",
    "    categoryorder='category ascending', label='Kolikrát předtím na AF'\n",
    ")\n",
    "\n",
    "video_dim = go.parcats.Dimension(\n",
    "    values=df['Úvodní/závěrečné video'],\n",
    "    categoryorder='category ascending', label='Úvodní/závěrečné video'\n",
    ")\n",
    "\n",
    "theme_dim = go.parcats.Dimension(\n",
    "    values=df['Připadá vám AF téma pro zážitek na conu důležité?'],\n",
    "    categoryorder='category ascending', label='Je AF téma důležité?'\n",
    ")\n",
    "\n",
    "\n",
    "# Create parcats trace\n",
    "#color = df_form['Pohlaví'].replace({'muž': 0, 'žena': 0.3, 'jiné': 0.6, np.nan: 1})\n",
    "color = df['Úvodní/závěrečné video'].replace({'dobré': 0, 'v pohodě': 0.2, 'špatné': 0.4, 'Nevím o co jde': 0.6, np.nan: 1})\n",
    "#colorscale = [[0, 'steelblue'], [0.3, 'indianred'], [0.6, 'gray'], [1, 'dimgray']];\n",
    "\n",
    "fig = go.Figure(data = [go.Parcats(dimensions=\n",
    "                                   [age_dim, gender_dim, num_visits_dim, video_dim, theme_dim],\n",
    "#        line={'color': color, 'colorscale': colorscale},\n",
    "        line={'color': color},\n",
    "        hoveron='color', hoverinfo='count+probability',\n",
    "        labelfont={'size': 18, 'family': 'Times'},\n",
    "        tickfont={'size': 16, 'family': 'Times'},\n",
    "        arrangement='freeform')])\n",
    "\n",
    "fig.show()"
   ]
  },
  {
   "cell_type": "code",
   "execution_count": null,
   "metadata": {
    "pycharm": {
     "name": "#%%\n"
    }
   },
   "outputs": [],
   "source": [
    "df = df_form[['Věk', 'Pohlaví', 'Cena AF suvenýrů je přiměřená?']].dropna()\n",
    "\n",
    "# Create dimensions\n",
    "age_dim = go.parcats.Dimension(\n",
    "    values=df['Věk'],\n",
    "    categoryorder='category ascending', label='Věk'\n",
    ")\n",
    "\n",
    "gender_dim = go.parcats.Dimension(\n",
    "    values=df['Pohlaví'],\n",
    "    categoryorder='category ascending', label='Pohlaví'\n",
    ")\n",
    "\n",
    "souvenirs_price_dim = go.parcats.Dimension(\n",
    "    values=df['Cena AF suvenýrů je přiměřená?'],\n",
    "    categoryorder='category ascending', label='Cena suvenýrů'\n",
    ")\n",
    "\n",
    "# Create parcats trace\n",
    "color = df_form['Pohlaví'].replace({'muž': 0, 'žena': 0.3, 'jiné': 0.6, np.nan: 1})\n",
    "colorscale = [[0, 'steelblue'], [0.3, 'indianred'], [0.6, 'gray'], [1, 'dimgray']];\n",
    "\n",
    "fig = go.Figure(data = [go.Parcats(dimensions=[age_dim, gender_dim, souvenirs_price_dim],\n",
    "        #line={'color': color, 'colorscale': colorscale},\n",
    "        hoveron='color', hoverinfo='count+probability',\n",
    "        labelfont={'size': 18, 'family': 'Times'},\n",
    "        tickfont={'size': 16, 'family': 'Times'},\n",
    "        arrangement='freeform')])\n",
    "\n",
    "fig.show()"
   ]
  },
  {
   "cell_type": "code",
   "execution_count": null,
   "metadata": {
    "pycharm": {
     "name": "#%%\n"
    }
   },
   "outputs": [],
   "source": [
    "# for souvenirs price\n",
    "\n",
    "df = df_form[['Věk', 'Bydliště', 'Pohlaví', 'Cena vstupného je…', 'Cena AF suvenýrů je přiměřená?']].dropna()\n",
    "\n",
    "# Create dimensions\n",
    "age_dim = go.parcats.Dimension(\n",
    "    values=df['Věk'],\n",
    "    categoryorder='category ascending', label='Věk'\n",
    ")\n",
    "\n",
    "place_dim = go.parcats.Dimension(\n",
    "    values=df['Bydliště'],\n",
    "    categoryorder='category ascending', label='Bydliště'\n",
    ")\n",
    "\n",
    "gender_dim = go.parcats.Dimension(\n",
    "    values=df['Pohlaví'],\n",
    "    categoryorder='category ascending', label='Pohlaví'\n",
    ")\n",
    "\n",
    "ticket_price_dim = go.parcats.Dimension(\n",
    "    values=df['Cena vstupného je…'],\n",
    "    categoryorder='category ascending', label='Cena vstupenek'\n",
    ")\n",
    "\n",
    "souvenirs_price_dim = go.parcats.Dimension(\n",
    "    values=df['Cena AF suvenýrů je přiměřená?'],\n",
    "    categoryorder='category ascending', label='Cena suvenýrů'\n",
    ")\n",
    "\n",
    "# Create parcats trace\n",
    "color = df['Pohlaví'].replace({'muž': 0, 'žena': 0.3, 'jiné': 0.6, np.nan: 1})\n",
    "colorscale = [[0, 'steelblue'], [0.3, 'indianred'], [0.6, 'gray'], [1, 'dimgray']];\n",
    "\n",
    "fig = go.Figure(data = [go.Parcats(dimensions=[age_dim, gender_dim, ticket_price_dim, souvenirs_price_dim],\n",
    "        line={'color': color, 'colorscale': colorscale},\n",
    "        hoveron='color', hoverinfo='count+probability',\n",
    "        labelfont={'size': 18, 'family': 'Times'},\n",
    "        tickfont={'size': 16, 'family': 'Times'},\n",
    "        arrangement='freeform')])\n",
    "\n",
    "fig.show()"
   ]
  },
  {
   "cell_type": "markdown",
   "metadata": {},
   "source": [
    "'Dám i víc' dali jen muži 19+"
   ]
  },
  {
   "cell_type": "markdown",
   "metadata": {},
   "source": [
    "### counting conditional probabilities"
   ]
  },
  {
   "cell_type": "code",
   "execution_count": null,
   "metadata": {
    "pycharm": {
     "name": "#%%\n"
    }
   },
   "outputs": [],
   "source": [
    "def cond_probs(df, factors, column):\n",
    "    temp_df = df.groupby(factors)[column].value_counts() / df.groupby(factors)[column].count()\n",
    "    temp_df = temp_df.unstack(level=-1)\n",
    "    if np.nan in temp_df.columns:\n",
    "        temp_df = temp_df.drop(columns=np.nan)\n",
    "    return temp_df"
   ]
  },
  {
   "cell_type": "code",
   "execution_count": null,
   "metadata": {
    "pycharm": {
     "name": "#%%\n"
    }
   },
   "outputs": [],
   "source": [
    "cond_probs(df_form, 'Pohlaví', 'Cena AF suvenýrů je přiměřená?')"
   ]
  },
  {
   "cell_type": "code",
   "execution_count": null,
   "metadata": {
    "pycharm": {
     "name": "#%%\n"
    }
   },
   "outputs": [],
   "source": [
    "cond_probs(df_form[df_form['Pohlaví'] != 'jiné'], ['Věk', 'Pohlaví'], 'Cena AF suvenýrů je přiměřená?')"
   ]
  },
  {
   "cell_type": "code",
   "execution_count": null,
   "metadata": {
    "pycharm": {
     "name": "#%%\n"
    }
   },
   "outputs": [],
   "source": [
    "cond_probs(df_form[df_form['Pohlaví'] != 'jiné'], ['Věk', 'Pohlaví'], 'Používali jste Animefest aplikaci?')"
   ]
  },
  {
   "cell_type": "code",
   "execution_count": null,
   "metadata": {
    "pycharm": {
     "name": "#%%\n"
    }
   },
   "outputs": [],
   "source": [
    "cond_probs(df_form[df_form['Pohlaví'] != 'jiné'], ['Věk', 'Pohlaví'], 'Úvodní/závěrečné video')"
   ]
  },
  {
   "cell_type": "code",
   "execution_count": null,
   "metadata": {
    "pycharm": {
     "name": "#%%\n"
    }
   },
   "outputs": [],
   "source": [
    "cond_probs(df_form[df_form['Pohlaví'] != 'jiné'], ['Věk', 'Pohlaví'], 'Připadá vám AF téma pro zážitek na conu důležité?')"
   ]
  },
  {
   "cell_type": "code",
   "execution_count": null,
   "metadata": {
    "pycharm": {
     "name": "#%%\n"
    }
   },
   "outputs": [],
   "source": [
    "cond_probs(df_form, ['Připadá vám AF téma pro zážitek na conu důležité?'], 'Úvodní/závěrečné video')"
   ]
  },
  {
   "cell_type": "code",
   "execution_count": null,
   "metadata": {
    "pycharm": {
     "name": "#%%\n"
    }
   },
   "outputs": [],
   "source": [
    "cond_probs(df_form[df_form['Pohlaví'] != 'jiné'], ['Věk', 'Pohlaví', 'Úvodní/závěrečné video'], 'Připadá vám AF téma pro zážitek na conu důležité?')"
   ]
  },
  {
   "cell_type": "code",
   "execution_count": null,
   "metadata": {
    "pycharm": {
     "name": "#%%\n"
    }
   },
   "outputs": [],
   "source": [
    "cols_to_plot"
   ]
  },
  {
   "cell_type": "code",
   "execution_count": null,
   "metadata": {
    "pycharm": {
     "name": "#%%\n"
    }
   },
   "outputs": [],
   "source": [
    "df_form.head()"
   ]
  },
  {
   "cell_type": "code",
   "execution_count": null,
   "metadata": {
    "pycharm": {
     "name": "#%%\n"
    }
   },
   "outputs": [],
   "source": [
    "people_ratings = df_form[program_columns_ratings].apply(lambda x: x.value_counts(), axis=1)\n",
    "people_ratings = people_ratings.dropna(axis='rows', how='all', subset=['dobré', 'v pohodě', 'špatné']).fillna(0)\n",
    "people_ratings.head()"
   ]
  },
  {
   "cell_type": "code",
   "execution_count": null,
   "metadata": {
    "pycharm": {
     "name": "#%%\n"
    }
   },
   "outputs": [],
   "source": [
    "people_score = (people_ratings['dobré'] * 1 + people_ratings['v pohodě'] * 0 + people_ratings['špatné'] * -1) / people_ratings.sum(axis=1)\n",
    "people_score.head()"
   ]
  },
  {
   "cell_type": "code",
   "execution_count": null,
   "metadata": {
    "pycharm": {
     "name": "#%%\n"
    }
   },
   "outputs": [],
   "source": [
    "people_score.plot.hist(bins=200, figsize=(20, 10))"
   ]
  },
  {
   "cell_type": "code",
   "execution_count": null,
   "metadata": {
    "pycharm": {
     "name": "#%%\n"
    }
   },
   "outputs": [],
   "source": [
    "#people_score.plot.hist(bins=200, figsize=(20, 10))\n",
    "#sns.violinplot(x='type', y='score', data=people_score, inner='stick', bw=.3)\n",
    "sns.violinplot(data=people_score.to_frame(), inner='stick', bw=.2)\n",
    "plt.title('informovanost')\n",
    "plt.xticks(rotation=15)"
   ]
  },
  {
   "cell_type": "code",
   "execution_count": null,
   "metadata": {
    "pycharm": {
     "name": "#%%\n"
    }
   },
   "outputs": [],
   "source": [
    "#people_score.plot.hist(bins=200, )\n",
    "#sns.violinplot(x='type', y='score', data=people_score, inner='stick', bw=.3)\n",
    "data_to_plot = pd.merge(df_form[['Věk', 'Pohlaví']], people_score.to_frame(name='score'), left_index=True, right_index=True).sort_values(by='Věk')\n",
    "plt.figure(figsize=(20, 10))\n",
    "sns.violinplot(x='Věk', y='score', hue='Pohlaví', data=data_to_plot, inner='stick', bw=.3)\n",
    "plt.title('průměrné hodnocení')\n",
    "plt.xticks(rotation=15)"
   ]
  },
  {
   "cell_type": "markdown",
   "metadata": {},
   "source": [
    "### analysis of open answers"
   ]
  },
  {
   "cell_type": "code",
   "execution_count": null,
   "metadata": {
    "pycharm": {
     "name": "#%%\n"
    }
   },
   "outputs": [],
   "source": [
    "from urllib import request\n",
    "\n",
    "data = request.urlopen('https://raw.githubusercontent.com/stopwords-iso/stopwords-cs/master/stopwords-cs.txt')\n",
    "all_stopwords = [line.decode('utf-8').replace('\\n', '') for line in data]\n",
    "# todo: split them correctly and for vocalulary calculation use only emotes filtering\n",
    "emotes_stopwords = [':d', ':', '\\?', ';', ':-d', '\\^\\^', ':dd', 'xd', ':3', '=d', ':p',  ':/', ':>', '\\+', 'o_o', 'd:', '>', ':\\'d', ':\"d', '\\n', ':dd', ':ddd', ':dddd', 'x', 'xp']\n",
    "my_stopwords = ['no', '', 'jo', 'sa', 'the', '=d', 'fakt', 'celkem', 'sem', 'ja', 'som', 'ako', 'of', 'nekdo', 'bych', 'sou', '2', 'jj', 'is', 'mam', '3', '\\n']\n",
    "all_stopwords += my_stopwords\n",
    "all_stopwords += emotes_stopwords\n",
    "\n",
    "def messages_to_words_hist(mess_series):\n",
    "    mess_series = mess_series.fillna('')\n",
    "    all_words = mess_series.str.split(' ', expand=True).stack().reset_index(drop=True, level=1)\n",
    "    words_historgram = all_words.str.lower().str.strip('.,?-–()').value_counts()\n",
    "    stopwords = list(set(all_stopwords).intersection(set(words_historgram.index)))\n",
    "    words_historgram_cleaned = words_historgram.drop(stopwords)\n",
    "    return words_historgram_cleaned\n"
   ]
  },
  {
   "cell_type": "code",
   "execution_count": null,
   "metadata": {
    "pycharm": {
     "name": "#%%\n"
    }
   },
   "outputs": [],
   "source": [
    "best_mess = messages_to_words_hist(df_form['S čím jste byli letos nejvíce spokojeni / co se vám nejvíce líbilo?'])\n",
    "best_mess[:30].plot.bar(figsize=(30, 10), title='S čím jste byli letos nejvíce spokojeni / co se vám nejvíce líbilo?')\n",
    "plt.xticks(rotation=30)"
   ]
  },
  {
   "cell_type": "code",
   "execution_count": null,
   "metadata": {
    "pycharm": {
     "name": "#%%\n"
    }
   },
   "outputs": [],
   "source": [
    "with pd.option_context('display.max_colwidth', 150):\n",
    "    display(df_form[df_form['S čím jste byli letos nejvíce spokojeni / co se vám nejvíce líbilo?'].str.contains('přednášky', regex=False)]['S čím jste byli letos nejvíce spokojeni / co se vám nejvíce líbilo?'])"
   ]
  },
  {
   "cell_type": "code",
   "execution_count": null,
   "metadata": {
    "pycharm": {
     "name": "#%%\n"
    }
   },
   "outputs": [],
   "source": [
    "best_mess = messages_to_words_hist(df_form['Co vás letos nejvíc zklamalo / nelíbilo se vám?'])\n",
    "best_mess[:30].plot.bar(figsize=(30, 10), title='Co vás letos nejvíc zklamalo / nelíbilo se vám?')\n",
    "plt.xticks(rotation=30)"
   ]
  },
  {
   "cell_type": "code",
   "execution_count": null,
   "metadata": {
    "pycharm": {
     "name": "#%%\n"
    }
   },
   "outputs": [],
   "source": [
    "with pd.option_context('display.max_colwidth', 150):\n",
    "    display(df_form[df_form['Co vás letos nejvíc zklamalo / nelíbilo se vám?'].str.contains('přednášky', regex=False)]['Co vás letos nejvíc zklamalo / nelíbilo se vám?'])"
   ]
  },
  {
   "cell_type": "code",
   "execution_count": null,
   "metadata": {
    "pycharm": {
     "name": "#%%\n"
    }
   },
   "outputs": [],
   "source": [
    "best_mess = messages_to_words_hist(df_form['Co bychom podle vás měli do příštího roku zlepšit?'])\n",
    "best_mess[:30].plot.bar(figsize=(30, 10), title='Co bychom podle vás měli do příštího roku zlepšit?')\n",
    "plt.xticks(rotation=30)"
   ]
  },
  {
   "cell_type": "code",
   "execution_count": null,
   "metadata": {
    "pycharm": {
     "name": "#%%\n"
    }
   },
   "outputs": [],
   "source": [
    "best_mess = messages_to_words_hist(df_form['Co bychom podle vás měli do příštího roku zlepšit?'])\n",
    "best_mess[:15].plot.bar(figsize=(30, 10), title='Co bychom podle vás měli do příštího roku zlepšit?')\n",
    "plt.xticks(rotation=30)"
   ]
  },
  {
   "cell_type": "code",
   "execution_count": null,
   "metadata": {
    "pycharm": {
     "name": "#%%\n"
    }
   },
   "outputs": [],
   "source": [
    "best_mess = messages_to_words_hist(df_form['S čím jste měli problémy?'])\n",
    "best_mess[:15].plot.bar(figsize=(30, 10), title='S čím jste měli problémy?')\n",
    "plt.xticks(rotation=30)"
   ]
  },
  {
   "cell_type": "code",
   "execution_count": null,
   "metadata": {
    "pycharm": {
     "name": "#%%\n"
    }
   },
   "outputs": [],
   "source": [
    "best_mess = messages_to_words_hist(df_form['Uvítali byste nějaké další suvenýry?'])\n",
    "best_mess[:15].plot.bar(figsize=(30, 10), title='Uvítali byste nějaké další suvenýry?')\n",
    "plt.xticks(rotation=30)"
   ]
  },
  {
   "cell_type": "code",
   "execution_count": null,
   "metadata": {
    "pycharm": {
     "name": "#%%\n"
    }
   },
   "outputs": [],
   "source": [
    "with pd.option_context('display.max_colwidth', 150):\n",
    "    display(df_form[df_form['Uvítali byste nějaké další suvenýry?'] != '']['Uvítali byste nějaké další suvenýry?'])"
   ]
  },
  {
   "cell_type": "code",
   "execution_count": null,
   "metadata": {
    "pycharm": {
     "name": "#%%\n"
    }
   },
   "outputs": [],
   "source": [
    "best_mess = messages_to_words_hist(df_form['Hodnocení a poznámky ke grafice'])\n",
    "best_mess[:15].plot.bar(figsize=(30, 10), title='Hodnocení a poznámky ke grafice')\n",
    "plt.xticks(rotation=30)"
   ]
  },
  {
   "cell_type": "code",
   "execution_count": null,
   "metadata": {
    "pycharm": {
     "name": "#%%\n"
    }
   },
   "outputs": [],
   "source": [
    "[i for i in open_answers if 'Komentář' not in i]"
   ]
  },
  {
   "cell_type": "code",
   "execution_count": null,
   "metadata": {
    "pycharm": {
     "name": "#%%\n"
    }
   },
   "outputs": [],
   "source": [
    "best_mess = messages_to_words_hist(df_form['Jak jste byli spokojeni s moderátory soutěží a oficiálních pořadů?'])\n",
    "best_mess[:15].plot.bar(figsize=(30, 10), title='Jak jste byli spokojeni s moderátory soutěží a oficiálních pořadů?')\n",
    "plt.xticks(rotation=30)"
   ]
  },
  {
   "cell_type": "code",
   "execution_count": null,
   "metadata": {
    "pycharm": {
     "name": "#%%\n"
    }
   },
   "outputs": [],
   "source": [
    "with pd.option_context('display.max_colwidth', 150):\n",
    "    display(df_form[df_form['Jak jste byli spokojeni s moderátory soutěží a oficiálních pořadů?'] != '']['Jak jste byli spokojeni s moderátory soutěží a oficiálních pořadů?'].tolist())"
   ]
  },
  {
   "cell_type": "markdown",
   "metadata": {},
   "source": [
    "### individual lectures/workshops analysis"
   ]
  },
  {
   "cell_type": "code",
   "execution_count": null,
   "metadata": {
    "pycharm": {
     "name": "#%%\n"
    }
   },
   "outputs": [],
   "source": [
    "# todo: udělat violin plot průměrných hodnocení pro jednotlivé lidi a různé demografie. A kouknout na množství překryvů mezi hodnoceným programem časově, zda to šlo stihnout"
   ]
  },
  {
   "cell_type": "code",
   "execution_count": null,
   "metadata": {
    "pycharm": {
     "name": "#%%\n"
    }
   },
   "outputs": [],
   "source": [
    "df_timetable[df_timetable['scheduleEntryId'].isin(df_timetable['scheduleEntryId'].value_counts()[df_timetable['scheduleEntryId'].value_counts() > 1].index)]"
   ]
  },
  {
   "cell_type": "code",
   "execution_count": null,
   "metadata": {
    "pycharm": {
     "name": "#%%\n"
    }
   },
   "outputs": [],
   "source": [
    "pd.Series(df_timetable[df_timetable['scheduleEntryId'].isin(df_timetable['scheduleEntryId'].value_counts()[df_timetable['scheduleEntryId'].value_counts() > 1].index)]['name'].unique())\n"
   ]
  },
  {
   "cell_type": "code",
   "execution_count": null,
   "metadata": {
    "pycharm": {
     "name": "#%%\n"
    }
   },
   "outputs": [],
   "source": [
    "pd.Series(program_columns.str.replace(info_suffix, '', regex=False).str.replace(fun_suffix, '', regex=False).unique())"
   ]
  },
  {
   "cell_type": "markdown",
   "metadata": {},
   "source": [
    "### temporal and spatial analysis of occupancy rate"
   ]
  },
  {
   "cell_type": "code",
   "execution_count": null,
   "metadata": {},
   "outputs": [],
   "source": [
    "program_attendance.head()"
   ]
  },
  {
   "cell_type": "code",
   "execution_count": null,
   "metadata": {},
   "outputs": [],
   "source": [
    "df_timetable"
   ]
  },
  {
   "cell_type": "code",
   "execution_count": null,
   "metadata": {},
   "outputs": [],
   "source": [
    "attendance_with_loc = pd.merge(program_attendance, df_timetable, left_index=True, right_on='name')\n",
    "attendance_with_loc['occupancy'] = attendance_with_loc['Zúčastnil(a) jsem se'] / attendance_with_loc['capacity']\n",
    "# some are over 100%, setting them to 100%, but further inspection is needed\n",
    "attendance_with_loc.loc[attendance_with_loc['occupancy'] > 1, 'occupancy'] = 1\n",
    "#attendance_with_loc['from_date'] = attendance_with_loc['from'].dt.date\n",
    "attendance_with_loc['from_date'] = attendance_with_loc['from'].dt.day\n",
    "#attendance_with_loc['from_time'] = attendance_with_loc['from'].dt.time.astype(str).map(lambda x: x[:5])\n",
    "attendance_with_loc['from_time'] = attendance_with_loc['from'].dt.hour\n",
    "attendance_with_loc = attendance_with_loc[attendance_with_loc['note'] != 'stream']\n",
    "attendance_with_loc = attendance_with_loc[attendance_with_loc['type'] != 'promítání']\n",
    "attendance_with_loc.head()"
   ]
  },
  {
   "cell_type": "code",
   "execution_count": null,
   "metadata": {},
   "outputs": [],
   "source": [
    "sorted_occupancy = attendance_with_loc.sort_values(by='occupancy', ascending=True)\n",
    "sorted_occupancy = sorted_occupancy.set_index('name')\n",
    "sorted_occupancy = sorted_occupancy.loc[~sorted_occupancy.index.duplicated(keep='first')]\n",
    "sorted_occupancy['occupancy'].plot.barh(stacked=True, figsize=(30, 60), color=sorted_occupancy['type'].map(type_to_color))\n",
    "for p in plt.gca().patches:\n",
    "    plt.gca().annotate(\"{:,.1%}\".format(p.get_width()), patch_label_coords(p), xytext=(5, 10), textcoords='offset points')\n",
    "plt.gca().set_xticklabels(['{:,.1%}'.format(x) for x in plt.gca().get_xticks()])\n",
    "plt.tight_layout()\n",
    "plt.savefig('occupancy-per-lecture.png')"
   ]
  },
  {
   "cell_type": "code",
   "execution_count": null,
   "metadata": {},
   "outputs": [],
   "source": [
    "sns.violinplot(x='location_name', y='occupancy', data=attendance_with_loc, inner='stick', bw=.3)\n",
    "plt.title('obsazenost místností')\n",
    "plt.gca().set_yticklabels(['{:,.0%}'.format(x) for x in plt.gca().get_yticks()])\n",
    "plt.xticks(rotation=40)\n",
    "plt.tight_layout()\n",
    "plt.savefig('occupancy-per-room.png')"
   ]
  },
  {
   "cell_type": "code",
   "execution_count": null,
   "metadata": {},
   "outputs": [],
   "source": [
    "plt.figure(figsize=(15,10))\n",
    "sns.violinplot(x='from_time', y='occupancy', data=attendance_with_loc, inner='stick', bw=.7, order=sorted(attendance_with_loc['from_time'].unique()))\n",
    "plt.title('obsazenost podle času [hodiny]')\n",
    "plt.gca().set_yticklabels(['{:,.0%}'.format(x) for x in plt.gca().get_yticks()])\n",
    "plt.tight_layout()\n",
    "plt.savefig('occupancy-per-time.png')"
   ]
  },
  {
   "cell_type": "code",
   "execution_count": null,
   "metadata": {},
   "outputs": [],
   "source": [
    "plt.figure(figsize=(15,10))\n",
    "sns.violinplot(x='from_time', y='Zúčastnil(a) jsem se', data=attendance_with_loc, inner='stick', bw=.3, order=sorted(attendance_with_loc['from_time'].unique()))\n",
    "plt.title('účast podle času [hodiny]')\n",
    "plt.tight_layout()\n",
    "plt.savefig('attendance-per-time.png')"
   ]
  },
  {
   "cell_type": "code",
   "execution_count": null,
   "metadata": {},
   "outputs": [],
   "source": [
    "sns.violinplot(x='from_date', y='occupancy', data=attendance_with_loc, inner='stick', bw=.3)\n",
    "plt.title('obsazenost podle dne')\n",
    "plt.gca().set_yticklabels(['{:,.0%}'.format(x) for x in plt.gca().get_yticks()])\n",
    "plt.tight_layout()\n",
    "plt.savefig('occupancy-per-date.png')"
   ]
  },
  {
   "cell_type": "code",
   "execution_count": null,
   "metadata": {},
   "outputs": [],
   "source": [
    "sns.violinplot(x='from_date', y='Zúčastnil(a) jsem se', data=attendance_with_loc, inner='stick', bw=.3)\n",
    "plt.title('účast podle dne')\n",
    "plt.tight_layout()\n",
    "plt.savefig('attendance-per-date.png')"
   ]
  },
  {
   "cell_type": "code",
   "execution_count": null,
   "metadata": {},
   "outputs": [],
   "source": [
    "plt.figure(figsize=(15,10))\n",
    "attendance_with_loc.groupby('from_time')['occupancy'].mean().plot.bar()\n",
    "plt.gca().set_yticklabels(['{:,.0%}'.format(x) for x in plt.gca().get_yticks()])\n",
    "plt.title('účast podle času [hodiny]')\n",
    "plt.xticks(rotation=0)\n",
    "plt.tight_layout()\n",
    "plt.savefig('occupancy-mean-per-time.png')"
   ]
  },
  {
   "cell_type": "code",
   "execution_count": null,
   "metadata": {},
   "outputs": [],
   "source": [
    "plt.figure(figsize=(15,10))\n",
    "attendance_with_loc.groupby('from_time')['Zúčastnil(a) jsem se'].sum().plot.bar()\n",
    "plt.title('účast podle času [hodiny]')\n",
    "plt.xticks(rotation=0)\n",
    "plt.tight_layout()\n",
    "plt.savefig('attendance-sum-per-time.png')"
   ]
  },
  {
   "cell_type": "code",
   "execution_count": null,
   "metadata": {},
   "outputs": [],
   "source": [
    "attendance_with_loc[attendance_with_loc['from_time'] == 18].sort_values(by='Zúčastnil(a) jsem se', ascending=False)"
   ]
  },
  {
   "cell_type": "code",
   "execution_count": null,
   "metadata": {},
   "outputs": [],
   "source": [
    "plt.figure(figsize=(15,10))\n",
    "attendance_with_loc.groupby('from_date')['Zúčastnil(a) jsem se'].sum().plot.bar()\n",
    "plt.title('účast podle dne')\n",
    "plt.xticks(rotation=0)\n",
    "plt.tight_layout()\n",
    "plt.savefig('attendance-sum-per-date.png')"
   ]
  },
  {
   "cell_type": "code",
   "execution_count": null,
   "metadata": {},
   "outputs": [],
   "source": []
  }
 ],
 "metadata": {
  "kernelspec": {
   "display_name": "Python 3",
   "language": "python",
   "name": "python3"
  },
  "language_info": {
   "codemirror_mode": {
    "name": "ipython",
    "version": 3
   },
   "file_extension": ".py",
   "mimetype": "text/x-python",
   "name": "python",
   "nbconvert_exporter": "python",
   "pygments_lexer": "ipython3",
   "version": "3.6.8"
  },
  "pycharm": {
   "stem_cell": {
    "cell_type": "raw",
    "metadata": {
     "collapsed": false
    },
    "source": []
   }
  },
  "varInspector": {
   "cols": {
    "lenName": 16,
    "lenType": 16,
    "lenVar": 40
   },
   "kernels_config": {
    "python": {
     "delete_cmd_postfix": "",
     "delete_cmd_prefix": "del ",
     "library": "var_list.py",
     "varRefreshCmd": "print(var_dic_list())"
    },
    "r": {
     "delete_cmd_postfix": ") ",
     "delete_cmd_prefix": "rm(",
     "library": "var_list.r",
     "varRefreshCmd": "cat(var_dic_list()) "
    }
   },
   "position": {
    "height": "657px",
    "left": "1788px",
    "right": "20px",
    "top": "580px",
    "width": "707px"
   },
   "types_to_exclude": [
    "module",
    "function",
    "builtin_function_or_method",
    "instance",
    "_Feature"
   ],
   "window_display": false
  }
 },
 "nbformat": 4,
 "nbformat_minor": 2
}
