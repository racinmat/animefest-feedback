{
 "cells": [
  {
   "cell_type": "code",
   "execution_count": null,
   "metadata": {},
   "outputs": [],
   "source": [
    "import numpy as np\n",
    "import pandas as pd\n",
    "import matplotlib.pyplot as plt\n",
    "import matplotlib as mlp\n",
    "from functools import partial\n",
    "import seaborn as sns\n",
    "import requests\n",
    "from data_loading import *\n",
    "import plotly.graph_objects as go"
   ]
  },
  {
   "cell_type": "code",
   "execution_count": null,
   "metadata": {},
   "outputs": [],
   "source": [
    "# use this to keep the cells wider, very nice on wide screens, set the percentage as you like it\n",
    "from IPython.core.display import display, HTML\n",
    "#display(HTML(\"<style>.container { width:80% !important; }</style>\"))\n",
    "display(HTML(\"<style>.container { width:100% !important; }</style>\"))"
   ]
  },
  {
   "cell_type": "code",
   "execution_count": null,
   "metadata": {},
   "outputs": [],
   "source": [
    "%load_ext autoreload\n",
    "%autoreload 2"
   ]
  },
  {
   "cell_type": "code",
   "execution_count": null,
   "metadata": {},
   "outputs": [],
   "source": [
    "conf = {\n",
    "    'font.size': 14.0,\n",
    "    'axes.grid': True,\n",
    "    'axes.axisbelow': True,\n",
    "    'axes.edgecolor': 'black',\n",
    "#    'axes.facecolor': '#E5E5EF',\n",
    "#    'axes.facecolor': '#E0E0EF',\n",
    "    'axes.labelcolor': 'black',\n",
    "    'axes.titlesize': 15.6,\n",
    "    'axes.labelsize': 'large',    \n",
    "    'figure.figsize': (12, 7),\n",
    "    'figure.titlesize': 'x-large',\n",
    "    'grid.linewidth': 1.3,\n",
    "    'xtick.labelsize': 'large',\n",
    "    'ytick.labelsize': 'large',\n",
    "    'xtick.color': 'black',\n",
    "    'ytick.color': 'black',\n",
    "    'legend.fontsize': 'large',\n",
    "    'figure.figsize': (12., 8.)\n",
    "}\n",
    "\n",
    "plt.rcParams.update(conf)"
   ]
  },
  {
   "cell_type": "markdown",
   "metadata": {},
   "source": [
    "### loading cleaned data"
   ]
  },
  {
   "cell_type": "code",
   "execution_count": null,
   "metadata": {},
   "outputs": [],
   "source": [
    "df_form, columns_series, program_columns_ratings, program_columns, form_ratings, form_attends, open_answers = load_form_data()"
   ]
  },
  {
   "cell_type": "code",
   "execution_count": null,
   "metadata": {},
   "outputs": [],
   "source": [
    "df_app = load_app_data()"
   ]
  },
  {
   "cell_type": "code",
   "execution_count": null,
   "metadata": {},
   "outputs": [],
   "source": [
    "df_timetable = load_api_info(df_form.columns)"
   ]
  },
  {
   "cell_type": "code",
   "execution_count": null,
   "metadata": {},
   "outputs": [],
   "source": [
    "app_ratings = prepare_app_ratings(df_app)"
   ]
  },
  {
   "cell_type": "code",
   "execution_count": null,
   "metadata": {},
   "outputs": [],
   "source": [
    "program_ratings, program_attends, program_columns = merge_ratings(form_ratings, app_ratings)"
   ]
  },
  {
   "cell_type": "code",
   "execution_count": null,
   "metadata": {},
   "outputs": [],
   "source": [
    "program_fun_score, program_info_score = calc_scores(program_ratings, program_columns)"
   ]
  },
  {
   "cell_type": "markdown",
   "metadata": {},
   "source": [
    "### individual lectures/workshops analysis"
   ]
  },
  {
   "cell_type": "code",
   "execution_count": null,
   "metadata": {},
   "outputs": [],
   "source": [
    "#column = 'Jak si plnit sny pomocí anime'\n",
    "#column = 'Anime světy, ve kterých (ne)chcete žít'\n",
    "#column = 'Nový kreslíř na scéně: umělá inteligence!'\n",
    "#column = 'Sekiro, Nioh a ti další…'\n",
    "#column = 'Pen & Paper role-playing hry'\n",
    "#column = 'Rámen po česku'\n",
    "#column = 'BTS Army sraz'\n",
    "#column = 'K-pop – random dance CZHW'\n",
    "#column = 'Historická přesnost zbrojí v anime na vybraných příkladech'\n",
    "column = 'Letem jiným světem'"
   ]
  },
  {
   "cell_type": "code",
   "execution_count": null,
   "metadata": {},
   "outputs": [],
   "source": [
    "age_to_alpha = {\n",
    "    '13-15': 0.1,\n",
    "    '16-18': 0.4,\n",
    "    '19-25': 0.75,\n",
    "    '26 a více': 1.,\n",
    "}\n",
    "\n",
    "gender_to_color = {\n",
    "    'muž': 'tab:blue',\n",
    "    'žena': 'tab:red',\n",
    "    'jiné': 'tab:purple',\n",
    "    np.nan: 'tab:gray',\n",
    "}\n",
    "\n",
    "code_max = len(age_to_alpha) * len(gender_to_color) - 1\n",
    "\n",
    "def indices_to_colors():\n",
    "    colors_dict = {}\n",
    "    ages = list(age_to_alpha.keys())\n",
    "    genders = list(gender_to_color.keys())\n",
    "    for gender, color in gender_to_color.items():\n",
    "        for age, alpha in age_to_alpha.items():\n",
    "            code = ages.index(age) * len(genders) + genders.index(gender)\n",
    "            color_code = np.array(mlp.colors.to_rgba(color))\n",
    "            color_code[3] = alpha\n",
    "            color_code = tuple(color_code.astype(np.float32))\n",
    "            colors_dict[code] = color_code\n",
    "    return colors_dict\n",
    "\n",
    "def plotly_format_colors(colorscale):\n",
    "    return [[k / code_max, f'rgba({int(v[0] * 255)}, {int(v[1] * 255)}, {int(v[2] * 255)}, {v[3]})'] for k, v in sorted(colorscale.items())]\n",
    "    #return [[k / code_max, f'rgb({int(v[0] * 255)}, {int(v[1] * 255)}, {int(v[2] * 255)})'] for k, v in sorted(colorscale.items())]\n",
    "    \n",
    "def map_to_idx(row):\n",
    "    ages = list(age_to_alpha.keys())\n",
    "    genders = list(gender_to_color.keys())\n",
    "    code = ages.index(row['Věk']) * len(genders) + genders.index(row['Pohlaví'])\n",
    "    return code / code_max\n",
    "\n",
    "def get_visits_order(visits):\n",
    "    return list((visits.str.replace('x', '').astype(int).sort_values().astype(str) + 'x').unique())"
   ]
  },
  {
   "cell_type": "code",
   "execution_count": null,
   "metadata": {},
   "outputs": [],
   "source": [
    "not_interesting_values = [np.nan, 'Nezúčastnil(a) jsem se', 'Nedostal(a) jsem se']\n",
    "\n",
    "df_filtered = df_form[~df_form[column + info_suffix].isin(not_interesting_values) | ~ df_form[column + fun_suffix].isin(not_interesting_values)]\n",
    "# Create dimensions\n",
    "age_dim = go.parcats.Dimension(\n",
    "    values=df_filtered['Věk'],\n",
    "    categoryorder='category ascending', label='Věk'\n",
    ")\n",
    "\n",
    "gender_dim = go.parcats.Dimension(\n",
    "    values=df_filtered['Pohlaví'],\n",
    "    categoryorder='category ascending', label='Pohlaví'\n",
    ")\n",
    "\n",
    "place_dim = go.parcats.Dimension(\n",
    "    values=df_filtered['Bydliště'],\n",
    "    categoryorder='category ascending', label='Bydliště'\n",
    ")\n",
    "\n",
    "num_visits_dim = go.parcats.Dimension(\n",
    "    values=df_filtered['Kromě letošního ročníku jsem na Animefestu byl(a)'],\n",
    "    #categoryorder='array', \n",
    "    label='Kolikrát předtím na AF',\n",
    "    #categoryarray=list(df_filtered['Kromě letošního ročníku jsem na Animefestu byl(a)'].str.replace('x', '').astype(int).sort_values().unique()),\n",
    "    categoryarray=get_visits_order(df_filtered['Kromě letošního ročníku jsem na Animefestu byl(a)']),\n",
    ")\n",
    "\n",
    "info_dim = go.parcats.Dimension(\n",
    "    values=df_filtered[column + info_suffix],\n",
    "    categoryorder='category ascending', label='Informativnost programu'\n",
    ")\n",
    "\n",
    "fun_dim = go.parcats.Dimension(\n",
    "    values=df_filtered[column + fun_suffix],\n",
    "    categoryorder='category ascending', label='Zábavnost programu'\n",
    ")\n",
    "\n",
    "# Create parcats trace\n",
    "color = df_filtered['Pohlaví'].replace({'muž': 0, 'žena': 0.3, 'jiné': 0.6, np.nan: 1})\n",
    "colorscale = [[0, 'steelblue'], [0.3, 'indianred'], [0.6, 'gray'], [1, 'dimgray']];\n",
    "color_idx = df_filtered[['Pohlaví', 'Věk']].apply(map_to_idx, axis=1)\n",
    "colorscale = indices_to_colors()\n",
    "\n",
    "fig = go.Figure(data = [go.Parcats(dimensions=[age_dim, gender_dim, num_visits_dim, info_dim, fun_dim],\n",
    "        line={\n",
    "            'color': color_idx, \n",
    "            'colorscale': plotly_format_colors(colorscale),\n",
    "            'cauto': False, \n",
    "            'cmin': 0., 'cmax': 1.,\n",
    "             },\n",
    "        hoveron='color', hoverinfo='count+probability',\n",
    "        labelfont={'size': 18, 'family': 'Times'},\n",
    "        tickfont={'size': 16, 'family': 'Times'},\n",
    "        arrangement='freeform')])\n",
    "\n",
    "fig.show()\n",
    "# todo: zkorelovat průměrnou spokojenost lidí s počtem AF návštěv"
   ]
  },
  {
   "cell_type": "code",
   "execution_count": null,
   "metadata": {},
   "outputs": [],
   "source": [
    "df_filtered['code'] = color_idx * code_max\n",
    "df_filtered['color'] = df_filtered['code'].map(colorscale)\n",
    "df_filtered[['Pohlaví', 'Věk', 'code', 'color']]"
   ]
  },
  {
   "cell_type": "code",
   "execution_count": null,
   "metadata": {},
   "outputs": [],
   "source": [
    "def plot_colortable():\n",
    "    cell_width, cell_height, swatch_width = 512, 22, 48\n",
    "    margin, topmargin = 6, 0\n",
    "    n = len(colorscale)\n",
    "    ncols = 2\n",
    "    nrows = n // ncols + int(n % ncols > 0)\n",
    "    width = cell_width * ncols + 2 * margin\n",
    "    height = cell_height * nrows + margin + topmargin\n",
    "    dpi = 72\n",
    "    fig, ax = plt.subplots(figsize=(width / dpi, height / dpi), dpi=dpi)\n",
    "    fig.subplots_adjust(margin/width, margin/height,\n",
    "                        (width-margin)/width, (height-topmargin)/height)\n",
    "    ax.set_xlim(0, cell_width * ncols)\n",
    "    ax.set_ylim(cell_height * (nrows-0.5), -cell_height/2.)\n",
    "    ax.yaxis.set_visible(False)\n",
    "    ax.xaxis.set_visible(False)\n",
    "    ax.set_axis_off()\n",
    "    for i, (name, color) in enumerate(colorscale.items()):\n",
    "        row = i % nrows\n",
    "        col = i // nrows\n",
    "        y = row * cell_height\n",
    "        swatch_start_x = cell_width * col\n",
    "        swatch_end_x = cell_width * col + swatch_width\n",
    "        text_pos_x = cell_width * col + swatch_width + 7\n",
    "        a, g = divmod(name, len(age_to_alpha))\n",
    "        age_name = list(age_to_alpha.keys())[a]\n",
    "        gender_name = list(gender_to_color.keys())[g]\n",
    "        ax.text(text_pos_x, y, f'{name}, {age_name}, {gender_name}, {color}', fontsize=14,\n",
    "                horizontalalignment='left', verticalalignment='center')\n",
    "        #print(color)\n",
    "        #print(np.array(color) * 255)\n",
    "        ax.hlines(y, swatch_start_x, swatch_end_x, color=color, linewidth=18)\n",
    "    return fig\n",
    "\n",
    "plot_colortable()\n",
    "plt.show()"
   ]
  },
  {
   "cell_type": "code",
   "execution_count": null,
   "metadata": {},
   "outputs": [],
   "source": [
    "# COLORSCAL MUST CONTAIN COLORS FOR ALL VALUES OTHERWISE IT IS IGNORED\n",
    "fig = go.Figure(data = [go.Parcats(dimensions=[age_dim, gender_dim, num_visits_dim, info_dim, fun_dim],\n",
    "        line={\n",
    "            'color': color_idx, \n",
    "            'colorscale': plotly_format_colors(colorscale),\n",
    "            'cauto': False, \n",
    "            'cmin': 0., 'cmax': 1.,\n",
    "             },\n",
    "        hoveron='color', hoverinfo='count',\n",
    "        labelfont={'size': 18, 'family': 'Times'},\n",
    "        tickfont={'size': 16, 'family': 'Times'},\n",
    "        arrangement='freeform')])\n",
    "\n",
    "fig.show()"
   ]
  },
  {
   "cell_type": "code",
   "execution_count": null,
   "metadata": {},
   "outputs": [],
   "source": [
    "program_info_score.loc[column]"
   ]
  },
  {
   "cell_type": "code",
   "execution_count": null,
   "metadata": {},
   "outputs": [],
   "source": [
    "program_fun_score.loc[column]"
   ]
  },
  {
   "cell_type": "code",
   "execution_count": null,
   "metadata": {},
   "outputs": [],
   "source": [
    "df_filtered[df_filtered['Komentář: '+column] != '']['Komentář: '+column].to_list()"
   ]
  },
  {
   "cell_type": "code",
   "execution_count": null,
   "metadata": {},
   "outputs": [],
   "source": [
    "df_timetable"
   ]
  },
  {
   "cell_type": "code",
   "execution_count": null,
   "metadata": {},
   "outputs": [],
   "source": [
    "df_filtered[df_filtered['Komentář: '+column] != ''][['Komentář: '+column, column + info_suffix, column + fun_suffix, 'Pohlaví', 'Věk']]"
   ]
  }
 ],
 "metadata": {
  "kernelspec": {
   "display_name": "Python 3",
   "language": "python",
   "name": "python3"
  },
  "language_info": {
   "codemirror_mode": {
    "name": "ipython",
    "version": 3
   },
   "file_extension": ".py",
   "mimetype": "text/x-python",
   "name": "python",
   "nbconvert_exporter": "python",
   "pygments_lexer": "ipython3",
   "version": "3.6.8"
  },
  "varInspector": {
   "cols": {
    "lenName": 16,
    "lenType": 16,
    "lenVar": 40
   },
   "kernels_config": {
    "python": {
     "delete_cmd_postfix": "",
     "delete_cmd_prefix": "del ",
     "library": "var_list.py",
     "varRefreshCmd": "print(var_dic_list())"
    },
    "r": {
     "delete_cmd_postfix": ") ",
     "delete_cmd_prefix": "rm(",
     "library": "var_list.r",
     "varRefreshCmd": "cat(var_dic_list()) "
    }
   },
   "types_to_exclude": [
    "module",
    "function",
    "builtin_function_or_method",
    "instance",
    "_Feature"
   ],
   "window_display": false
  }
 },
 "nbformat": 4,
 "nbformat_minor": 2
}
