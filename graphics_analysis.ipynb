{
 "cells": [
  {
   "cell_type": "code",
   "execution_count": null,
   "metadata": {},
   "outputs": [],
   "source": [
    "import numpy as np\n",
    "import pandas as pd\n",
    "import matplotlib.pyplot as plt\n",
    "import matplotlib as mlp\n",
    "from functools import partial\n",
    "import seaborn as sns\n",
    "import requests\n",
    "from data_loading import *\n",
    "import plotly.graph_objects as go\n",
    "import os\n",
    "import os.path as osp\n",
    "import re"
   ]
  },
  {
   "cell_type": "code",
   "execution_count": null,
   "metadata": {},
   "outputs": [],
   "source": [
    "# use this to keep the cells wider, very nice on wide screens, set the percentage as you like it\n",
    "from IPython.core.display import display, HTML\n",
    "#display(HTML(\"<style>.container { width:80% !important; }</style>\"))\n",
    "display(HTML(\"<style>.container { width:100% !important; }</style>\"))"
   ]
  },
  {
   "cell_type": "code",
   "execution_count": null,
   "metadata": {},
   "outputs": [],
   "source": [
    "%load_ext autoreload\n",
    "%autoreload 2"
   ]
  },
  {
   "cell_type": "code",
   "execution_count": null,
   "metadata": {},
   "outputs": [],
   "source": [
    "conf = {\n",
    "    'font.size': 14.0,\n",
    "    'axes.grid': True,\n",
    "    'axes.axisbelow': True,\n",
    "    'axes.edgecolor': 'black',\n",
    "#    'axes.facecolor': '#E5E5EF',\n",
    "#    'axes.facecolor': '#E0E0EF',\n",
    "    'axes.labelcolor': 'black',\n",
    "    'axes.titlesize': 15.6,\n",
    "    'axes.labelsize': 'large',    \n",
    "    'figure.figsize': (12, 7),\n",
    "    'figure.titlesize': 'x-large',\n",
    "    'grid.linewidth': 1.3,\n",
    "    'xtick.labelsize': 'large',\n",
    "    'ytick.labelsize': 'large',\n",
    "    'xtick.color': 'black',\n",
    "    'ytick.color': 'black',\n",
    "    'legend.fontsize': 'large',\n",
    "    'figure.figsize': (12., 8.)\n",
    "}\n",
    "\n",
    "plt.rcParams.update(conf)"
   ]
  },
  {
   "cell_type": "markdown",
   "metadata": {},
   "source": [
    "### loading cleaned data"
   ]
  },
  {
   "cell_type": "code",
   "execution_count": null,
   "metadata": {},
   "outputs": [],
   "source": [
    "df_form, columns_series, program_columns_ratings, program_columns, form_ratings, form_attends, open_answers = load_form_data()\n",
    "df_app = load_app_data()\n",
    "df_timetable = load_api_info(df_form.columns)\n",
    "app_ratings = prepare_app_ratings(df_app)\n",
    "program_ratings, program_attends, program_columns = merge_ratings(form_ratings, app_ratings)\n",
    "program_fun_score, program_info_score = calc_scores(program_ratings, program_columns)"
   ]
  },
  {
   "cell_type": "markdown",
   "metadata": {},
   "source": [
    "### app feedback analysis"
   ]
  },
  {
   "cell_type": "code",
   "execution_count": null,
   "metadata": {},
   "outputs": [],
   "source": [
    "def has_graphics_mention(ser):\n",
    "    lower_str = ser.fillna('').astype(str).str.lower()\n",
    "    return lower_str.str.contains('grafi')"
   ]
  },
  {
   "cell_type": "code",
   "execution_count": null,
   "metadata": {},
   "outputs": [],
   "source": [
    "df_form.columns[has_graphics_mention(df_form.columns.to_series())]"
   ]
  },
  {
   "cell_type": "code",
   "execution_count": null,
   "metadata": {},
   "outputs": [],
   "source": [
    "graphics_mention_columns = [column for column in df_form.columns if has_graphics_mention(df_form[column]).any()]\n",
    "graphics_mention_columns"
   ]
  },
  {
   "cell_type": "code",
   "execution_count": null,
   "metadata": {},
   "outputs": [],
   "source": [
    "pd.set_option('display.max_colwidth', 150)\n",
    "for column in graphics_mention_columns:\n",
    "    display(df_form[has_graphics_mention(df_form[column])][column].to_frame())\n"
   ]
  },
  {
   "cell_type": "code",
   "execution_count": null,
   "metadata": {},
   "outputs": [],
   "source": []
  }
 ],
 "metadata": {
  "kernelspec": {
   "display_name": "Python 3",
   "language": "python",
   "name": "python3"
  },
  "language_info": {
   "codemirror_mode": {
    "name": "ipython",
    "version": 3
   },
   "file_extension": ".py",
   "mimetype": "text/x-python",
   "name": "python",
   "nbconvert_exporter": "python",
   "pygments_lexer": "ipython3",
   "version": "3.6.8"
  },
  "varInspector": {
   "cols": {
    "lenName": 16,
    "lenType": 16,
    "lenVar": 40
   },
   "kernels_config": {
    "python": {
     "delete_cmd_postfix": "",
     "delete_cmd_prefix": "del ",
     "library": "var_list.py",
     "varRefreshCmd": "print(var_dic_list())"
    },
    "r": {
     "delete_cmd_postfix": ") ",
     "delete_cmd_prefix": "rm(",
     "library": "var_list.r",
     "varRefreshCmd": "cat(var_dic_list()) "
    }
   },
   "types_to_exclude": [
    "module",
    "function",
    "builtin_function_or_method",
    "instance",
    "_Feature"
   ],
   "window_display": false
  }
 },
 "nbformat": 4,
 "nbformat_minor": 2
}
