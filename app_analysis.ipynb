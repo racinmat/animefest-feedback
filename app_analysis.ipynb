{
 "cells": [
  {
   "cell_type": "code",
   "execution_count": null,
   "metadata": {},
   "outputs": [],
   "source": [
    "import numpy as np\n",
    "import pandas as pd\n",
    "import matplotlib.pyplot as plt\n",
    "import matplotlib as mlp\n",
    "from functools import partial\n",
    "import seaborn as sns\n",
    "import requests\n",
    "from data_loading import *\n",
    "import plotly.graph_objects as go\n",
    "import os\n",
    "import os.path as osp\n",
    "import re"
   ]
  },
  {
   "cell_type": "code",
   "execution_count": null,
   "metadata": {},
   "outputs": [],
   "source": [
    "# use this to keep the cells wider, very nice on wide screens, set the percentage as you like it\n",
    "from IPython.core.display import display, HTML\n",
    "#display(HTML(\"<style>.container { width:80% !important; }</style>\"))\n",
    "display(HTML(\"<style>.container { width:100% !important; }</style>\"))"
   ]
  },
  {
   "cell_type": "code",
   "execution_count": null,
   "metadata": {},
   "outputs": [],
   "source": [
    "%load_ext autoreload\n",
    "%autoreload 2"
   ]
  },
  {
   "cell_type": "code",
   "execution_count": null,
   "metadata": {},
   "outputs": [],
   "source": [
    "conf = {\n",
    "    'font.size': 14.0,\n",
    "    'axes.grid': True,\n",
    "    'axes.axisbelow': True,\n",
    "    'axes.edgecolor': 'black',\n",
    "#    'axes.facecolor': '#E5E5EF',\n",
    "#    'axes.facecolor': '#E0E0EF',\n",
    "    'axes.labelcolor': 'black',\n",
    "    'axes.titlesize': 15.6,\n",
    "    'axes.labelsize': 'large',    \n",
    "    'figure.figsize': (12, 7),\n",
    "    'figure.titlesize': 'x-large',\n",
    "    'grid.linewidth': 1.3,\n",
    "    'xtick.labelsize': 'large',\n",
    "    'ytick.labelsize': 'large',\n",
    "    'xtick.color': 'black',\n",
    "    'ytick.color': 'black',\n",
    "    'legend.fontsize': 'large',\n",
    "    'figure.figsize': (12., 8.)\n",
    "}\n",
    "\n",
    "plt.rcParams.update(conf)"
   ]
  },
  {
   "cell_type": "markdown",
   "metadata": {},
   "source": [
    "### loading cleaned data"
   ]
  },
  {
   "cell_type": "code",
   "execution_count": null,
   "metadata": {},
   "outputs": [],
   "source": [
    "df_form, columns_series, program_columns_ratings, program_columns, form_ratings, form_attends, open_answers = load_form_data()\n",
    "df_app = load_app_data()\n",
    "df_timetable = load_api_info(df_form.columns)\n",
    "app_ratings = prepare_app_ratings(df_app)\n",
    "program_ratings, program_attends, program_columns = merge_ratings(form_ratings, app_ratings)\n",
    "program_fun_score, program_info_score = calc_scores(program_ratings, program_columns)"
   ]
  },
  {
   "cell_type": "markdown",
   "metadata": {},
   "source": [
    "### app feedback analysis"
   ]
  },
  {
   "cell_type": "code",
   "execution_count": null,
   "metadata": {},
   "outputs": [],
   "source": [
    "df_form.columns[df_form.columns.to_series().str.lower().str.contains('app')]"
   ]
  },
  {
   "cell_type": "code",
   "execution_count": null,
   "metadata": {},
   "outputs": [],
   "source": [
    "app_columns = df_form.columns[df_form.columns.to_series().str.lower().str.contains('aplika')]\n",
    "app_columns"
   ]
  },
  {
   "cell_type": "code",
   "execution_count": null,
   "metadata": {},
   "outputs": [],
   "source": [
    "df_form[app_columns].head()"
   ]
  },
  {
   "cell_type": "code",
   "execution_count": null,
   "metadata": {},
   "outputs": [],
   "source": [
    "def has_app_mention(ser):\n",
    "    lower_str = ser.fillna('').astype(str).str.lower()\n",
    "    return lower_str.str.contains('app') | lower_str.str.contains('aplika')"
   ]
  },
  {
   "cell_type": "code",
   "execution_count": null,
   "metadata": {},
   "outputs": [],
   "source": [
    "app_mention_columns = [column for column in df_form.columns if has_app_mention(df_form[column]).any()]\n",
    "app_mention_columns"
   ]
  },
  {
   "cell_type": "code",
   "execution_count": null,
   "metadata": {},
   "outputs": [],
   "source": [
    "df_form[has_app_mention(df_form[app_mention_columns[0]])][app_mention_columns[0]]"
   ]
  },
  {
   "cell_type": "code",
   "execution_count": null,
   "metadata": {},
   "outputs": [],
   "source": [
    "data_dir = osp.join(os.getcwd(), 'app_feedback')"
   ]
  },
  {
   "cell_type": "code",
   "execution_count": null,
   "metadata": {},
   "outputs": [],
   "source": [
    "df_form['Používali jste Animefest aplikaci?'].value_counts().plot.pie()\n",
    "plt.savefig(osp.join(data_dir, 'app_usage.png'))"
   ]
  },
  {
   "cell_type": "code",
   "execution_count": null,
   "metadata": {},
   "outputs": [],
   "source": [
    "df_form[df_form['Co se vám na aplikaci líbilo? Co chcete do příště změnit nebo doplnit?'] != '']['Co se vám na aplikaci líbilo? Co chcete do příště změnit nebo doplnit?'].head()"
   ]
  },
  {
   "cell_type": "code",
   "execution_count": null,
   "metadata": {},
   "outputs": [],
   "source": [
    "df_form[df_form['Narazili jste při používání aplikace na závažné problémy?'].notnull()]['Narazili jste při používání aplikace na závažné problémy?'].value_counts().plot.pie()\n",
    "plt.savefig(osp.join(data_dir, 'app_bugs.png'))"
   ]
  },
  {
   "cell_type": "code",
   "execution_count": null,
   "metadata": {},
   "outputs": [],
   "source": [
    "df = df_form[['Věk', 'Pohlaví', 'Kromě letošního ročníku jsem na Animefestu byl(a)', \n",
    "              'Používali jste Animefest aplikaci?', 'Narazili jste při používání aplikace na závažné problémy?']\n",
    "            ].dropna(subset=['Kromě letošního ročníku jsem na Animefestu byl(a)', 'Používali jste Animefest aplikaci?'])\n",
    "df['Kromě letošního ročníku jsem na Animefestu byl(a)'] = df['Kromě letošního ročníku jsem na Animefestu byl(a)'].replace({'6x': '6x+', '7x': '6x+', '8x': '6x+', '9x': '6x+', \n",
    "                                                                                                                           '10x': '6x+', '11x': '6x+', '12x': '6x+', '13x': '6x+', '14x': '6x+'})\n",
    "# Create dimensions\n",
    "age_dim = go.parcats.Dimension(\n",
    "    values=df['Věk'],\n",
    "    categoryorder='category ascending', label='Věk'\n",
    ")\n",
    "\n",
    "gender_dim = go.parcats.Dimension(\n",
    "    values=df['Pohlaví'],\n",
    "    categoryorder='category ascending', label='Pohlaví'\n",
    ")\n",
    "\n",
    "num_visits_dim = go.parcats.Dimension(\n",
    "    values=df['Kromě letošního ročníku jsem na Animefestu byl(a)'],\n",
    "    categoryorder='category ascending', label='Kolikrát předtím na AF'\n",
    ")\n",
    "\n",
    "usage_dim = go.parcats.Dimension(\n",
    "    values=df['Používali jste Animefest aplikaci?'],\n",
    "    categoryorder='category ascending', label='Používanost aplikace'\n",
    ")\n",
    "\n",
    "bugs_dim = go.parcats.Dimension(\n",
    "    values=df['Narazili jste při používání aplikace na závažné problémy?'],\n",
    "    categoryorder='category ascending', label='Problémy s aplikací'\n",
    ")\n",
    "\n",
    "# Create parcats trace\n",
    "#color = df_form['Pohlaví'].replace({'muž': 0, 'žena': 0.3, 'jiné': 0.6, np.nan: 1})\n",
    "color = df['Narazili jste při používání aplikace na závažné problémy?'].replace({'Vůbec': 0, 'Zřídka': 0.3, 'Často': 0.6, np.nan: 0.9})\n",
    "#colorscale = [[0, 'steelblue'], [0.3, 'indianred'], [0.6, 'gray'], [1, 'dimgray']];\n",
    "\n",
    "fig = go.Figure(data = [go.Parcats(dimensions=[age_dim, gender_dim, num_visits_dim, usage_dim, bugs_dim],\n",
    "#        line={'color': color, 'colorscale': colorscale},\n",
    "        line={'color': color},\n",
    "        hoveron='color', hoverinfo='count+probability',\n",
    "        labelfont={'size': 18, 'family': 'Times'},\n",
    "        tickfont={'size': 16, 'family': 'Times'},\n",
    "        arrangement='freeform')])\n",
    "fig.show()\n",
    "\n",
    "img_path = osp.join(data_dir, 'app_parallel_cords.png')\n",
    "fig.write_image(img_path, width=1000, height=600)\n",
    "\n",
    "# need to rotate it\n",
    "par_cat = Image.open(img_path)\n",
    "par_cat = par_cat.transpose(Image.ROTATE_90)\n",
    "par_cat.save(img_path)"
   ]
  },
  {
   "cell_type": "code",
   "execution_count": null,
   "metadata": {},
   "outputs": [],
   "source": [
    "from jinja2 import Environment, PackageLoader, select_autoescape, FileSystemLoader\n",
    "from PIL import Image\n",
    "\n",
    "def generate_pdf():\n",
    "    pd.set_option('display.max_colwidth', -1)\n",
    "    \n",
    "    app_feedback_df = df_form[['Používali jste Animefest aplikaci?', 'Narazili jste při používání aplikace na závažné problémy?', 'Co se vám na aplikaci líbilo? Co chcete do příště změnit nebo doplnit?']]\n",
    "    app_feedback_df = app_feedback_df[app_feedback_df['Co se vám na aplikaci líbilo? Co chcete do příště změnit nebo doplnit?'] != '']\n",
    "    app_feedback_df[['Používali jste Animefest aplikaci?', 'Narazili jste při používání aplikace na závažné problémy?']] = app_feedback_df[['Používali jste Animefest aplikaci?', 'Narazili jste při používání aplikace na závažné problémy?']].fillna('-')\n",
    "    app_feedback_html = app_feedback_df.to_html(index=False)\n",
    "\n",
    "    app_feedback_2_df = df_form[['Používali jste Animefest aplikaci?', 'Narazili jste při používání aplikace na závažné problémy?', 'S čím jste měli problémy?', 'Jaké funkce chcete přidat nebo změnit?']]\n",
    "    app_feedback_2_df = app_feedback_2_df[app_feedback_2_df[['S čím jste měli problémy?', 'Jaké funkce chcete přidat nebo změnit?']].notnull().any(axis=1)]\n",
    "    app_feedback_2_df = app_feedback_2_df[(app_feedback_2_df[['S čím jste měli problémy?', 'Jaké funkce chcete přidat nebo změnit?']].fillna('') != '').any(axis=1)]\n",
    "    app_feedback_2_df[['Používali jste Animefest aplikaci?', 'Narazili jste při používání aplikace na závažné problémy?']] = app_feedback_2_df[['Používali jste Animefest aplikaci?', 'Narazili jste při používání aplikace na závažné problémy?']].fillna('-')\n",
    "    app_feedback_2_html = app_feedback_2_df.to_html(index=False)\n",
    "\n",
    "    per_column_comments = {}\n",
    "    for column in app_mention_columns:        \n",
    "        comments_ser = df_form[has_app_mention(df_form[column])][column]\n",
    "        #comments_ser = comments_ser.append(df_app[(df_app['název'] == column) & df_app['komentář'].str.lower().str.contains('moder')]['komentář'])\n",
    "        # todo: spojit s komentáři z appky\n",
    "        per_column_comments[column] = comments_ser.to_frame(name='komentáře').to_html(index=False)\n",
    "        \n",
    "    data_root = osp.join(os.getcwd(), 'app_feedback')\n",
    "    pdf_path = data_root\n",
    "    os.makedirs(pdf_path, exist_ok=True)\n",
    "    'Co se vám na aplikaci líbilo? Co chcete do příště změnit nebo doplnit?'\n",
    "    env = Environment(loader=FileSystemLoader(os.getcwd()), trim_blocks=True)\n",
    "    template = env.get_template('app-template.jinja2')\n",
    "    html_report_path = osp.join(pdf_path, 'app-report.html')\n",
    "    template.stream(bar_chart_usage_path=osp.join(data_dir, 'app_usage.png'),\n",
    "                    bar_chart_bugs_path=osp.join(data_dir, 'app_bugs.png'),\n",
    "                    par_cat_path=img_path,\n",
    "                    per_column_comments=per_column_comments,\n",
    "                    app_feedback_html=app_feedback_html,\n",
    "                    app_feedback_2_html=app_feedback_2_html,\n",
    "                   ).dump(html_report_path)\n",
    "\n",
    "    chrome_exe = '\"C:\\Program Files (x86)\\Google\\Chrome\\Application\\chrome.exe\"'\n",
    "    pdf_file = osp.join(pdf_path, 'app-report.pdf')\n",
    "    command = f'{chrome_exe} --headless --disable-gpu --no-sandbox --print-to-pdf=\"{pdf_file}\" \"{html_report_path}\"'\n",
    "    os.popen(command)\n",
    "\n",
    "generate_pdf()"
   ]
  },
  {
   "cell_type": "code",
   "execution_count": null,
   "metadata": {},
   "outputs": [],
   "source": [
    "# todo: přidat ještě sloupce S čím jste měli problémy?\tJaké funkce chcete přidat nebo změnit?\n",
    "app_feedback_2_df = df_form[['Používali jste Animefest aplikaci?', 'Narazili jste při používání aplikace na závažné problémy?', 'S čím jste měli problémy?', 'Jaké funkce chcete přidat nebo změnit?']]\n",
    "app_feedback_2_df = app_feedback_2_df[app_feedback_2_df[['S čím jste měli problémy?', 'Jaké funkce chcete přidat nebo změnit?']].notnull().all(axis=1)]\n",
    "app_feedback_2_df = app_feedback_2_df[(app_feedback_2_df[['S čím jste měli problémy?', 'Jaké funkce chcete přidat nebo změnit?']].fillna('') != '').all(axis=1)]\n"
   ]
  },
  {
   "cell_type": "code",
   "execution_count": null,
   "metadata": {},
   "outputs": [],
   "source": [
    "app_feedback_2_df[['S čím jste měli problémy?', 'Jaké funkce chcete přidat nebo změnit?']].notnull().all(axis=1).head()"
   ]
  },
  {
   "cell_type": "code",
   "execution_count": null,
   "metadata": {},
   "outputs": [],
   "source": [
    "app_feedback_2_df.head()"
   ]
  },
  {
   "cell_type": "code",
   "execution_count": null,
   "metadata": {},
   "outputs": [],
   "source": []
  }
 ],
 "metadata": {
  "kernelspec": {
   "display_name": "Python 3",
   "language": "python",
   "name": "python3"
  },
  "language_info": {
   "codemirror_mode": {
    "name": "ipython",
    "version": 3
   },
   "file_extension": ".py",
   "mimetype": "text/x-python",
   "name": "python",
   "nbconvert_exporter": "python",
   "pygments_lexer": "ipython3",
   "version": "3.6.8"
  },
  "varInspector": {
   "cols": {
    "lenName": 16,
    "lenType": 16,
    "lenVar": 40
   },
   "kernels_config": {
    "python": {
     "delete_cmd_postfix": "",
     "delete_cmd_prefix": "del ",
     "library": "var_list.py",
     "varRefreshCmd": "print(var_dic_list())"
    },
    "r": {
     "delete_cmd_postfix": ") ",
     "delete_cmd_prefix": "rm(",
     "library": "var_list.r",
     "varRefreshCmd": "cat(var_dic_list()) "
    }
   },
   "types_to_exclude": [
    "module",
    "function",
    "builtin_function_or_method",
    "instance",
    "_Feature"
   ],
   "window_display": false
  }
 },
 "nbformat": 4,
 "nbformat_minor": 2
}
